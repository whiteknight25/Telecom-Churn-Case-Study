{
 "cells": [
  {
   "cell_type": "markdown",
   "id": "9d7f3214",
   "metadata": {
    "papermill": {
     "duration": 0.036252,
     "end_time": "2021-08-13T07:16:36.548737",
     "exception": false,
     "start_time": "2021-08-13T07:16:36.512485",
     "status": "completed"
    },
    "tags": []
   },
   "source": [
    "# Telecom Churn Prediction - Starter Notebook\n",
    "\n",
    "**Author:** Akshay Sehgal (www.akshaysehgal.com)"
   ]
  },
  {
   "cell_type": "markdown",
   "id": "fb5052e4",
   "metadata": {
    "papermill": {
     "duration": 0.035836,
     "end_time": "2021-08-13T07:16:36.620553",
     "exception": false,
     "start_time": "2021-08-13T07:16:36.584717",
     "status": "completed"
    },
    "tags": []
   },
   "source": [
    "The goal of this notebook is to provide an overview of how write a notebook and create a submission file that successfully solves the churn prediction problem. Please download the datasets, unzip and place them in the same folder as this notebook.\n",
    "\n",
    "We are going to follow the process called CRISP-DM.\n",
    "\n",
    "<img src=\"https://upload.wikimedia.org/wikipedia/commons/thumb/b/b9/CRISP-DM_Process_Diagram.png/639px-CRISP-DM_Process_Diagram.png\" style=\"height: 400px; width:400px;\"/>\n",
    "\n",
    "After Business and Data Understanding via EDA, we want to prepare data for modelling. Then evaluate and submit our predictions."
   ]
  },
  {
   "cell_type": "markdown",
   "id": "9290ee78",
   "metadata": {
    "papermill": {
     "duration": 0.034552,
     "end_time": "2021-08-13T07:16:36.690028",
     "exception": false,
     "start_time": "2021-08-13T07:16:36.655476",
     "status": "completed"
    },
    "tags": []
   },
   "source": [
    "# 0. Problem statement\n",
    "\n",
    "In the telecom industry, customers are able to choose from multiple service providers and actively switch from one operator to another. In this highly competitive market, the telecommunications industry experiences an average of 15-25% annual churn rate. Given the fact that it costs 5-10 times more to acquire a new customer than to retain an existing one, customer retention has now become even more important than customer acquisition.\n",
    "\n",
    "For many incumbent operators, retaining high profitable customers is the number one business\n",
    "goal. To reduce customer churn, telecom companies need to predict which customers are at high risk of churn. In this project, you will analyze customer-level data of a leading telecom firm, build predictive models to identify customers at high risk of churn, and identify the main indicators of churn.\n",
    "\n",
    "In this competition, your goal is *to build a machine learning model that is able to predict churning customers based on the features provided for their usage.*\n",
    "\n",
    "**Customer behaviour during churn:**\n",
    "\n",
    "Customers usually do not decide to switch to another competitor instantly, but rather over a\n",
    "period of time (this is especially applicable to high-value customers). In churn prediction, we\n",
    "assume that there are three phases of customer lifecycle :\n",
    "\n",
    "1. <u>The ‘good’ phase:</u> In this phase, the customer is happy with the service and behaves as usual.\n",
    "\n",
    "2. <u>The ‘action’ phase:</u> The customer experience starts to sore in this phase, for e.g. he/she gets a compelling offer from a competitor, faces unjust charges, becomes unhappy with service quality etc. In this phase, the customer usually shows different behaviour than the ‘good’ months. It is crucial to identify high-churn-risk customers in this phase, since some corrective actions can be taken at this point (such as matching the competitor’s offer/improving the service quality etc.)\n",
    "\n",
    "3. <u>The ‘churn’ phase:</u> In this phase, the customer is said to have churned. In this case, since you are working over a four-month window, the first two months are the ‘good’ phase, the third month is the ‘action’ phase, while the fourth month (September) is the ‘churn’ phase."
   ]
  },
  {
   "cell_type": "markdown",
   "id": "3da713b1",
   "metadata": {
    "papermill": {
     "duration": 0.034501,
     "end_time": "2021-08-13T07:16:36.760335",
     "exception": false,
     "start_time": "2021-08-13T07:16:36.725834",
     "status": "completed"
    },
    "tags": []
   },
   "source": [
    "# 1. Loading dependencies & datasets\n",
    "\n",
    "Lets start by loading our dependencies. We can keep adding any imports to this cell block, as we write mode and mode code."
   ]
  },
  {
   "cell_type": "code",
   "execution_count": 1,
   "id": "2e47254e",
   "metadata": {
    "execution": {
     "iopub.execute_input": "2021-08-13T07:16:36.838077Z",
     "iopub.status.busy": "2021-08-13T07:16:36.837038Z",
     "iopub.status.idle": "2021-08-13T07:16:38.158096Z",
     "shell.execute_reply": "2021-08-13T07:16:38.157302Z"
    },
    "papermill": {
     "duration": 1.362112,
     "end_time": "2021-08-13T07:16:38.158342",
     "exception": false,
     "start_time": "2021-08-13T07:16:36.796230",
     "status": "completed"
    },
    "tags": []
   },
   "outputs": [],
   "source": [
    "#Data Structures\n",
    "import pandas as pd\n",
    "import numpy as np\n",
    "import re\n",
    "import os\n",
    "\n",
    "### For installing missingno library, type this command in terminal\n",
    "#pip install missingno\n",
    "\n",
    "import missingno as msno\n",
    "\n",
    "#Sklearn\n",
    "from sklearn.impute import SimpleImputer\n",
    "from sklearn.preprocessing import StandardScaler\n",
    "from sklearn.model_selection import train_test_split\n",
    "from sklearn.ensemble import RandomForestClassifier\n",
    "from sklearn.decomposition import PCA\n",
    "from sklearn.manifold import TSNE\n",
    "from sklearn.linear_model import LogisticRegression\n",
    "from sklearn.pipeline import Pipeline\n",
    "from sklearn.model_selection import GridSearchCV\n",
    "from sklearn.metrics import confusion_matrix, precision_score, recall_score\n",
    "\n",
    "#Plotting\n",
    "import matplotlib.pyplot as plt\n",
    "from mpl_toolkits.mplot3d import Axes3D\n",
    "import seaborn as sns\n",
    "\n",
    "#Others\n",
    "import warnings\n",
    "warnings.filterwarnings('ignore')\n",
    "\n",
    "%matplotlib inline"
   ]
  },
  {
   "cell_type": "markdown",
   "id": "8d5046d0",
   "metadata": {
    "papermill": {
     "duration": 0.03468,
     "end_time": "2021-08-13T07:16:38.240579",
     "exception": false,
     "start_time": "2021-08-13T07:16:38.205899",
     "status": "completed"
    },
    "tags": []
   },
   "source": [
    "Next, we load our datasets and the data dictionary file.\n",
    "\n",
    "The **train.csv** file contains both dependent and independent features, while the **test.csv** contains only the independent variables. \n",
    "\n",
    "So, for model selection, I will create our own train/test dataset from the **train.csv** and use the model to predict the solution using the features in unseen test.csv data for submission."
   ]
  },
  {
   "cell_type": "code",
   "execution_count": 2,
   "id": "e5474122",
   "metadata": {
    "execution": {
     "iopub.execute_input": "2021-08-13T07:16:38.315005Z",
     "iopub.status.busy": "2021-08-13T07:16:38.314375Z",
     "iopub.status.idle": "2021-08-13T07:16:38.320099Z",
     "shell.execute_reply": "2021-08-13T07:16:38.319451Z"
    },
    "papermill": {
     "duration": 0.044801,
     "end_time": "2021-08-13T07:16:38.320264",
     "exception": false,
     "start_time": "2021-08-13T07:16:38.275463",
     "status": "completed"
    },
    "tags": []
   },
   "outputs": [
    {
     "name": "stdout",
     "output_type": "stream",
     "text": [
      "/kaggle/input/kagglelabstest2021/data_dictionary.csv\n",
      "/kaggle/input/kagglelabstest2021/sample.csv\n",
      "/kaggle/input/kagglelabstest2021/train.csv\n",
      "/kaggle/input/kagglelabstest2021/test.csv\n"
     ]
    }
   ],
   "source": [
    "#COMMENT THIS SECTION INCASE RUNNING THIS NOTEBOOK LOCALLY\n",
    "\n",
    "#Checking the kaggle paths for the uploaded datasets\n",
    "import os\n",
    "for dirname, _, filenames in os.walk('/kaggle/input'):\n",
    "    for filename in filenames:\n",
    "        print(os.path.join(dirname, filename))"
   ]
  },
  {
   "cell_type": "code",
   "execution_count": 3,
   "id": "3b94d1d5",
   "metadata": {
    "execution": {
     "iopub.execute_input": "2021-08-13T07:16:38.396407Z",
     "iopub.status.busy": "2021-08-13T07:16:38.395775Z",
     "iopub.status.idle": "2021-08-13T07:16:40.947829Z",
     "shell.execute_reply": "2021-08-13T07:16:40.948376Z"
    },
    "papermill": {
     "duration": 2.591587,
     "end_time": "2021-08-13T07:16:40.948543",
     "exception": false,
     "start_time": "2021-08-13T07:16:38.356956",
     "status": "completed"
    },
    "tags": []
   },
   "outputs": [
    {
     "name": "stdout",
     "output_type": "stream",
     "text": [
      "(69999, 172)\n",
      "(30000, 171)\n",
      "(30000, 2)\n",
      "(36, 2)\n"
     ]
    }
   ],
   "source": [
    "#INCASE RUNNING THIS LOCALLY, PASS THE RELATIVE PATH OF THE CSV FILES BELOW\n",
    "#(e.g. if files are in same folder as notebook, simple write \"train.csv\" as path)\n",
    "\n",
    "data = pd.read_csv(\"/kaggle/input/kagglelabstest2021/train.csv\")\n",
    "unseen = pd.read_csv(\"/kaggle/input/kagglelabstest2021/test.csv\")\n",
    "sample = pd.read_csv(\"/kaggle/input/kagglelabstest2021/sample.csv\")\n",
    "data_dict = pd.read_csv(\"/kaggle/input/kagglelabstest2021/data_dictionary.csv\")\n",
    "\n",
    "print(data.shape)\n",
    "print(unseen.shape)\n",
    "print(sample.shape)\n",
    "print(data_dict.shape)"
   ]
  },
  {
   "cell_type": "markdown",
   "id": "13614e3d",
   "metadata": {
    "papermill": {
     "duration": 0.035613,
     "end_time": "2021-08-13T07:16:41.020316",
     "exception": false,
     "start_time": "2021-08-13T07:16:40.984703",
     "status": "completed"
    },
    "tags": []
   },
   "source": [
    "1. Lets analyze the data dictionary versus the churn dataset.\n",
    "2. The data dictonary contains a list of abbrevations which provide you all the information you need to understand what a specific feature/variable in the churn dataset represents\n",
    "3. Example: \n",
    "\n",
    "> \"arpu_7\" -> Average revenue per user + KPI for the month of July\n",
    ">\n",
    "> \"onnet_mou_6\" ->  All kind of calls within the same operator network + Minutes of usage voice calls + KPI for the month of June\n",
    ">\n",
    ">\"night_pck_user_8\" -> Scheme to use during specific night hours only + Prepaid service schemes called PACKS + KPI for the month of August\n",
    ">\n",
    ">\"max_rech_data_7\" -> Maximum + Recharge + Mobile internet + KPI for the month of July\n",
    "\n",
    "Its important to understand the definitions of each feature that you are working with, take notes on which feature you think might impact the churn rate of a user, and what sort of analysis could you do to understand the distribution of the feature better."
   ]
  },
  {
   "cell_type": "code",
   "execution_count": 4,
   "id": "adfb4dc5",
   "metadata": {
    "execution": {
     "iopub.execute_input": "2021-08-13T07:16:41.095411Z",
     "iopub.status.busy": "2021-08-13T07:16:41.094812Z",
     "iopub.status.idle": "2021-08-13T07:16:41.123189Z",
     "shell.execute_reply": "2021-08-13T07:16:41.122683Z"
    },
    "papermill": {
     "duration": 0.067353,
     "end_time": "2021-08-13T07:16:41.123346",
     "exception": false,
     "start_time": "2021-08-13T07:16:41.055993",
     "status": "completed"
    },
    "tags": []
   },
   "outputs": [
    {
     "data": {
      "text/html": [
       "<div>\n",
       "<style scoped>\n",
       "    .dataframe tbody tr th:only-of-type {\n",
       "        vertical-align: middle;\n",
       "    }\n",
       "\n",
       "    .dataframe tbody tr th {\n",
       "        vertical-align: top;\n",
       "    }\n",
       "\n",
       "    .dataframe thead th {\n",
       "        text-align: right;\n",
       "    }\n",
       "</style>\n",
       "<table border=\"1\" class=\"dataframe\">\n",
       "  <thead>\n",
       "    <tr style=\"text-align: right;\">\n",
       "      <th></th>\n",
       "      <th>Acronyms</th>\n",
       "      <th>Description</th>\n",
       "    </tr>\n",
       "  </thead>\n",
       "  <tbody>\n",
       "    <tr>\n",
       "      <th>0</th>\n",
       "      <td>CIRCLE_ID</td>\n",
       "      <td>Telecom circle area to which the customer belo...</td>\n",
       "    </tr>\n",
       "    <tr>\n",
       "      <th>1</th>\n",
       "      <td>LOC</td>\n",
       "      <td>Local calls  within same telecom circle</td>\n",
       "    </tr>\n",
       "    <tr>\n",
       "      <th>2</th>\n",
       "      <td>STD</td>\n",
       "      <td>STD calls  outside the calling circle</td>\n",
       "    </tr>\n",
       "    <tr>\n",
       "      <th>3</th>\n",
       "      <td>IC</td>\n",
       "      <td>Incoming calls</td>\n",
       "    </tr>\n",
       "    <tr>\n",
       "      <th>4</th>\n",
       "      <td>OG</td>\n",
       "      <td>Outgoing calls</td>\n",
       "    </tr>\n",
       "    <tr>\n",
       "      <th>5</th>\n",
       "      <td>T2T</td>\n",
       "      <td>Operator T to T ie within same operator mobile...</td>\n",
       "    </tr>\n",
       "    <tr>\n",
       "      <th>6</th>\n",
       "      <td>T2M</td>\n",
       "      <td>Operator T to other operator mobile</td>\n",
       "    </tr>\n",
       "    <tr>\n",
       "      <th>7</th>\n",
       "      <td>T2O</td>\n",
       "      <td>Operator T to other operator fixed line</td>\n",
       "    </tr>\n",
       "    <tr>\n",
       "      <th>8</th>\n",
       "      <td>T2F</td>\n",
       "      <td>Operator T to fixed lines of T</td>\n",
       "    </tr>\n",
       "    <tr>\n",
       "      <th>9</th>\n",
       "      <td>T2C</td>\n",
       "      <td>Operator T to its own call center</td>\n",
       "    </tr>\n",
       "    <tr>\n",
       "      <th>10</th>\n",
       "      <td>ARPU</td>\n",
       "      <td>Average revenue per user</td>\n",
       "    </tr>\n",
       "    <tr>\n",
       "      <th>11</th>\n",
       "      <td>MOU</td>\n",
       "      <td>Minutes of usage  voice calls</td>\n",
       "    </tr>\n",
       "    <tr>\n",
       "      <th>12</th>\n",
       "      <td>AON</td>\n",
       "      <td>Age on network  number of days the customer is...</td>\n",
       "    </tr>\n",
       "    <tr>\n",
       "      <th>13</th>\n",
       "      <td>ONNET</td>\n",
       "      <td>All kind of calls within the same operator net...</td>\n",
       "    </tr>\n",
       "    <tr>\n",
       "      <th>14</th>\n",
       "      <td>OFFNET</td>\n",
       "      <td>All kind of calls outside the operator T network</td>\n",
       "    </tr>\n",
       "    <tr>\n",
       "      <th>15</th>\n",
       "      <td>ROAM</td>\n",
       "      <td>Indicates that customer is in roaming zone dur...</td>\n",
       "    </tr>\n",
       "    <tr>\n",
       "      <th>16</th>\n",
       "      <td>SPL</td>\n",
       "      <td>Special calls</td>\n",
       "    </tr>\n",
       "    <tr>\n",
       "      <th>17</th>\n",
       "      <td>ISD</td>\n",
       "      <td>ISD calls</td>\n",
       "    </tr>\n",
       "    <tr>\n",
       "      <th>18</th>\n",
       "      <td>RECH</td>\n",
       "      <td>Recharge</td>\n",
       "    </tr>\n",
       "    <tr>\n",
       "      <th>19</th>\n",
       "      <td>NUM</td>\n",
       "      <td>Number</td>\n",
       "    </tr>\n",
       "    <tr>\n",
       "      <th>20</th>\n",
       "      <td>AMT</td>\n",
       "      <td>Amount in local currency</td>\n",
       "    </tr>\n",
       "    <tr>\n",
       "      <th>21</th>\n",
       "      <td>MAX</td>\n",
       "      <td>Maximum</td>\n",
       "    </tr>\n",
       "    <tr>\n",
       "      <th>22</th>\n",
       "      <td>DATA</td>\n",
       "      <td>Mobile internet</td>\n",
       "    </tr>\n",
       "    <tr>\n",
       "      <th>23</th>\n",
       "      <td>3G</td>\n",
       "      <td>G network</td>\n",
       "    </tr>\n",
       "    <tr>\n",
       "      <th>24</th>\n",
       "      <td>AV</td>\n",
       "      <td>Average</td>\n",
       "    </tr>\n",
       "    <tr>\n",
       "      <th>25</th>\n",
       "      <td>VOL</td>\n",
       "      <td>Mobile internet usage volume in MB</td>\n",
       "    </tr>\n",
       "    <tr>\n",
       "      <th>26</th>\n",
       "      <td>2G</td>\n",
       "      <td>G network</td>\n",
       "    </tr>\n",
       "    <tr>\n",
       "      <th>27</th>\n",
       "      <td>PCK</td>\n",
       "      <td>Prepaid service schemes called  PACKS</td>\n",
       "    </tr>\n",
       "    <tr>\n",
       "      <th>28</th>\n",
       "      <td>NIGHT</td>\n",
       "      <td>Scheme to use during specific night hours only</td>\n",
       "    </tr>\n",
       "    <tr>\n",
       "      <th>29</th>\n",
       "      <td>MONTHLY</td>\n",
       "      <td>Service schemes with validity equivalent to a ...</td>\n",
       "    </tr>\n",
       "    <tr>\n",
       "      <th>30</th>\n",
       "      <td>SACHET</td>\n",
       "      <td>Service schemes with validity smaller than a m...</td>\n",
       "    </tr>\n",
       "    <tr>\n",
       "      <th>31</th>\n",
       "      <td>*.6</td>\n",
       "      <td>KPI for the month of June</td>\n",
       "    </tr>\n",
       "    <tr>\n",
       "      <th>32</th>\n",
       "      <td>*.7</td>\n",
       "      <td>KPI for the month of July</td>\n",
       "    </tr>\n",
       "    <tr>\n",
       "      <th>33</th>\n",
       "      <td>*.8</td>\n",
       "      <td>KPI for the month of August</td>\n",
       "    </tr>\n",
       "    <tr>\n",
       "      <th>34</th>\n",
       "      <td>FB_USER</td>\n",
       "      <td>Service scheme to avail services of Facebook a...</td>\n",
       "    </tr>\n",
       "    <tr>\n",
       "      <th>35</th>\n",
       "      <td>VBC</td>\n",
       "      <td>Volume based cost  when no specific scheme is ...</td>\n",
       "    </tr>\n",
       "  </tbody>\n",
       "</table>\n",
       "</div>"
      ],
      "text/plain": [
       "       Acronyms                                        Description\n",
       "0     CIRCLE_ID  Telecom circle area to which the customer belo...\n",
       "1           LOC            Local calls  within same telecom circle\n",
       "2           STD              STD calls  outside the calling circle\n",
       "3            IC                                     Incoming calls\n",
       "4            OG                                     Outgoing calls\n",
       "5           T2T  Operator T to T ie within same operator mobile...\n",
       "6       T2M                    Operator T to other operator mobile\n",
       "7       T2O                Operator T to other operator fixed line\n",
       "8       T2F                         Operator T to fixed lines of T\n",
       "9       T2C                      Operator T to its own call center\n",
       "10     ARPU                               Average revenue per user\n",
       "11      MOU                          Minutes of usage  voice calls\n",
       "12      AON      Age on network  number of days the customer is...\n",
       "13     ONNET     All kind of calls within the same operator net...\n",
       "14   OFFNET       All kind of calls outside the operator T network\n",
       "15         ROAM  Indicates that customer is in roaming zone dur...\n",
       "16       SPL                                         Special calls\n",
       "17      ISD                                              ISD calls\n",
       "18     RECH                                               Recharge\n",
       "19      NUM                                                 Number\n",
       "20      AMT                               Amount in local currency\n",
       "21      MAX                                                Maximum\n",
       "22     DATA                                        Mobile internet\n",
       "23       3G                                              G network\n",
       "24       AV                                                Average\n",
       "25      VOL                     Mobile internet usage volume in MB\n",
       "26       2G                                              G network\n",
       "27      PCK                  Prepaid service schemes called  PACKS\n",
       "28    NIGHT         Scheme to use during specific night hours only\n",
       "29  MONTHLY      Service schemes with validity equivalent to a ...\n",
       "30    SACHET     Service schemes with validity smaller than a m...\n",
       "31      *.6                              KPI for the month of June\n",
       "32      *.7                              KPI for the month of July\n",
       "33      *.8                            KPI for the month of August\n",
       "34      FB_USER  Service scheme to avail services of Facebook a...\n",
       "35      VBC      Volume based cost  when no specific scheme is ..."
      ]
     },
     "execution_count": 4,
     "metadata": {},
     "output_type": "execute_result"
    }
   ],
   "source": [
    "data_dict"
   ]
  },
  {
   "cell_type": "markdown",
   "id": "d91e8d29",
   "metadata": {
    "papermill": {
     "duration": 0.036844,
     "end_time": "2021-08-13T07:16:41.198447",
     "exception": false,
     "start_time": "2021-08-13T07:16:41.161603",
     "status": "completed"
    },
    "tags": []
   },
   "source": [
    "For the purpose of this **starter notebook**, we I will restrict the dataset to only a small set of variables. \n",
    "\n",
    "The approach I use here is to understand each Acronym, figure our what variable might be important and filter out variable names based on the combinations of acrynoms using REGEX. So, if I want the total minutes a person has spent on outgoing calls, I need acronyms, TOTAL, OG and MOU. So corresponding regex is ```total.+og.+mou```"
   ]
  },
  {
   "cell_type": "code",
   "execution_count": 5,
   "id": "78b62d9f",
   "metadata": {
    "execution": {
     "iopub.execute_input": "2021-08-13T07:16:41.286772Z",
     "iopub.status.busy": "2021-08-13T07:16:41.285532Z",
     "iopub.status.idle": "2021-08-13T07:16:41.298276Z",
     "shell.execute_reply": "2021-08-13T07:16:41.298717Z"
    },
    "papermill": {
     "duration": 0.06318,
     "end_time": "2021-08-13T07:16:41.298901",
     "exception": false,
     "start_time": "2021-08-13T07:16:41.235721",
     "status": "completed"
    },
    "tags": []
   },
   "outputs": [],
   "source": [
    "ids = ['id','circle_id']\n",
    "total_amounts = [i for i in list(data.columns) if re.search('total.+amt',i)]\n",
    "total_outgoing_minutes = [i for i in list(data.columns) if re.search('total.+og.+mou',i)]\n",
    "offnetwork_minutes = [i for i in list(data.columns) if re.search('offnet',i)]\n",
    "average_revenue_3g = [i for i in list(data.columns) if re.search('arpu.+3g',i)]\n",
    "average_revenue_2g = [i for i in list(data.columns) if re.search('arpu.+2g',i)]\n",
    "volume_3g = [i for i in list(data.columns) if re.search('vol.+3g',i)]\n",
    "volume_2g = [i for i in list(data.columns) if re.search('vol.+2g',i)]\n",
    "age_on_network = [i for i in list(data.columns) if re.search('aon',i)]\n",
    "\n",
    "#Storing them in a single flat list\n",
    "variables = [*ids, \n",
    "             *total_amounts, \n",
    "             *total_outgoing_minutes, \n",
    "             *offnetwork_minutes, \n",
    "             *average_revenue_3g, \n",
    "             *average_revenue_2g,\n",
    "             *volume_3g,\n",
    "             *volume_2g,\n",
    "             *age_on_network, \n",
    "             'churn_probability']\n",
    "\n",
    "data = data[variables].set_index('id')"
   ]
  },
  {
   "cell_type": "code",
   "execution_count": 6,
   "id": "d40bdb11",
   "metadata": {
    "execution": {
     "iopub.execute_input": "2021-08-13T07:16:41.375999Z",
     "iopub.status.busy": "2021-08-13T07:16:41.375128Z",
     "iopub.status.idle": "2021-08-13T07:16:41.401438Z",
     "shell.execute_reply": "2021-08-13T07:16:41.400962Z"
    },
    "papermill": {
     "duration": 0.066079,
     "end_time": "2021-08-13T07:16:41.401769",
     "exception": false,
     "start_time": "2021-08-13T07:16:41.335690",
     "status": "completed"
    },
    "tags": []
   },
   "outputs": [
    {
     "data": {
      "text/html": [
       "<div>\n",
       "<style scoped>\n",
       "    .dataframe tbody tr th:only-of-type {\n",
       "        vertical-align: middle;\n",
       "    }\n",
       "\n",
       "    .dataframe tbody tr th {\n",
       "        vertical-align: top;\n",
       "    }\n",
       "\n",
       "    .dataframe thead th {\n",
       "        text-align: right;\n",
       "    }\n",
       "</style>\n",
       "<table border=\"1\" class=\"dataframe\">\n",
       "  <thead>\n",
       "    <tr style=\"text-align: right;\">\n",
       "      <th></th>\n",
       "      <th>circle_id</th>\n",
       "      <th>total_rech_amt_6</th>\n",
       "      <th>total_rech_amt_7</th>\n",
       "      <th>total_rech_amt_8</th>\n",
       "      <th>total_og_mou_6</th>\n",
       "      <th>total_og_mou_7</th>\n",
       "      <th>total_og_mou_8</th>\n",
       "      <th>offnet_mou_6</th>\n",
       "      <th>offnet_mou_7</th>\n",
       "      <th>offnet_mou_8</th>\n",
       "      <th>...</th>\n",
       "      <th>arpu_2g_7</th>\n",
       "      <th>arpu_2g_8</th>\n",
       "      <th>vol_3g_mb_6</th>\n",
       "      <th>vol_3g_mb_7</th>\n",
       "      <th>vol_3g_mb_8</th>\n",
       "      <th>vol_2g_mb_6</th>\n",
       "      <th>vol_2g_mb_7</th>\n",
       "      <th>vol_2g_mb_8</th>\n",
       "      <th>aon</th>\n",
       "      <th>churn_probability</th>\n",
       "    </tr>\n",
       "    <tr>\n",
       "      <th>id</th>\n",
       "      <th></th>\n",
       "      <th></th>\n",
       "      <th></th>\n",
       "      <th></th>\n",
       "      <th></th>\n",
       "      <th></th>\n",
       "      <th></th>\n",
       "      <th></th>\n",
       "      <th></th>\n",
       "      <th></th>\n",
       "      <th></th>\n",
       "      <th></th>\n",
       "      <th></th>\n",
       "      <th></th>\n",
       "      <th></th>\n",
       "      <th></th>\n",
       "      <th></th>\n",
       "      <th></th>\n",
       "      <th></th>\n",
       "      <th></th>\n",
       "      <th></th>\n",
       "    </tr>\n",
       "  </thead>\n",
       "  <tbody>\n",
       "    <tr>\n",
       "      <th>0</th>\n",
       "      <td>109</td>\n",
       "      <td>77</td>\n",
       "      <td>65</td>\n",
       "      <td>10</td>\n",
       "      <td>81.21</td>\n",
       "      <td>221.68</td>\n",
       "      <td>3.63</td>\n",
       "      <td>32.24</td>\n",
       "      <td>96.68</td>\n",
       "      <td>2.33</td>\n",
       "      <td>...</td>\n",
       "      <td>NaN</td>\n",
       "      <td>NaN</td>\n",
       "      <td>0.0</td>\n",
       "      <td>0.00</td>\n",
       "      <td>0.0</td>\n",
       "      <td>0.0</td>\n",
       "      <td>0.00</td>\n",
       "      <td>0.00</td>\n",
       "      <td>1958</td>\n",
       "      <td>0</td>\n",
       "    </tr>\n",
       "    <tr>\n",
       "      <th>1</th>\n",
       "      <td>109</td>\n",
       "      <td>0</td>\n",
       "      <td>145</td>\n",
       "      <td>50</td>\n",
       "      <td>0.00</td>\n",
       "      <td>30.73</td>\n",
       "      <td>31.66</td>\n",
       "      <td>0.00</td>\n",
       "      <td>25.99</td>\n",
       "      <td>30.89</td>\n",
       "      <td>...</td>\n",
       "      <td>122.08</td>\n",
       "      <td>NaN</td>\n",
       "      <td>0.0</td>\n",
       "      <td>3.96</td>\n",
       "      <td>0.0</td>\n",
       "      <td>0.0</td>\n",
       "      <td>352.91</td>\n",
       "      <td>0.00</td>\n",
       "      <td>710</td>\n",
       "      <td>0</td>\n",
       "    </tr>\n",
       "    <tr>\n",
       "      <th>2</th>\n",
       "      <td>109</td>\n",
       "      <td>70</td>\n",
       "      <td>120</td>\n",
       "      <td>0</td>\n",
       "      <td>56.49</td>\n",
       "      <td>99.36</td>\n",
       "      <td>0.00</td>\n",
       "      <td>53.99</td>\n",
       "      <td>82.05</td>\n",
       "      <td>0.00</td>\n",
       "      <td>...</td>\n",
       "      <td>NaN</td>\n",
       "      <td>NaN</td>\n",
       "      <td>0.0</td>\n",
       "      <td>0.00</td>\n",
       "      <td>0.0</td>\n",
       "      <td>0.0</td>\n",
       "      <td>0.00</td>\n",
       "      <td>0.00</td>\n",
       "      <td>882</td>\n",
       "      <td>0</td>\n",
       "    </tr>\n",
       "    <tr>\n",
       "      <th>3</th>\n",
       "      <td>109</td>\n",
       "      <td>160</td>\n",
       "      <td>240</td>\n",
       "      <td>130</td>\n",
       "      <td>76.03</td>\n",
       "      <td>95.98</td>\n",
       "      <td>53.84</td>\n",
       "      <td>68.76</td>\n",
       "      <td>78.48</td>\n",
       "      <td>50.23</td>\n",
       "      <td>...</td>\n",
       "      <td>NaN</td>\n",
       "      <td>NaN</td>\n",
       "      <td>0.0</td>\n",
       "      <td>0.00</td>\n",
       "      <td>0.0</td>\n",
       "      <td>0.0</td>\n",
       "      <td>0.00</td>\n",
       "      <td>0.00</td>\n",
       "      <td>982</td>\n",
       "      <td>0</td>\n",
       "    </tr>\n",
       "    <tr>\n",
       "      <th>4</th>\n",
       "      <td>109</td>\n",
       "      <td>290</td>\n",
       "      <td>136</td>\n",
       "      <td>122</td>\n",
       "      <td>63.26</td>\n",
       "      <td>42.94</td>\n",
       "      <td>15.76</td>\n",
       "      <td>56.99</td>\n",
       "      <td>38.11</td>\n",
       "      <td>9.63</td>\n",
       "      <td>...</td>\n",
       "      <td>35.12</td>\n",
       "      <td>0.0</td>\n",
       "      <td>0.0</td>\n",
       "      <td>0.00</td>\n",
       "      <td>0.0</td>\n",
       "      <td>390.8</td>\n",
       "      <td>308.89</td>\n",
       "      <td>213.47</td>\n",
       "      <td>647</td>\n",
       "      <td>0</td>\n",
       "    </tr>\n",
       "  </tbody>\n",
       "</table>\n",
       "<p>5 rows × 24 columns</p>\n",
       "</div>"
      ],
      "text/plain": [
       "    circle_id  total_rech_amt_6  total_rech_amt_7  total_rech_amt_8  \\\n",
       "id                                                                    \n",
       "0         109                77                65                10   \n",
       "1         109                 0               145                50   \n",
       "2         109                70               120                 0   \n",
       "3         109               160               240               130   \n",
       "4         109               290               136               122   \n",
       "\n",
       "    total_og_mou_6  total_og_mou_7  total_og_mou_8  offnet_mou_6  \\\n",
       "id                                                                 \n",
       "0            81.21          221.68            3.63         32.24   \n",
       "1             0.00           30.73           31.66          0.00   \n",
       "2            56.49           99.36            0.00         53.99   \n",
       "3            76.03           95.98           53.84         68.76   \n",
       "4            63.26           42.94           15.76         56.99   \n",
       "\n",
       "    offnet_mou_7  offnet_mou_8  ...  arpu_2g_7  arpu_2g_8  vol_3g_mb_6  \\\n",
       "id                              ...                                      \n",
       "0          96.68          2.33  ...        NaN        NaN          0.0   \n",
       "1          25.99         30.89  ...     122.08        NaN          0.0   \n",
       "2          82.05          0.00  ...        NaN        NaN          0.0   \n",
       "3          78.48         50.23  ...        NaN        NaN          0.0   \n",
       "4          38.11          9.63  ...      35.12        0.0          0.0   \n",
       "\n",
       "    vol_3g_mb_7  vol_3g_mb_8  vol_2g_mb_6  vol_2g_mb_7  vol_2g_mb_8   aon  \\\n",
       "id                                                                          \n",
       "0          0.00          0.0          0.0         0.00         0.00  1958   \n",
       "1          3.96          0.0          0.0       352.91         0.00   710   \n",
       "2          0.00          0.0          0.0         0.00         0.00   882   \n",
       "3          0.00          0.0          0.0         0.00         0.00   982   \n",
       "4          0.00          0.0        390.8       308.89       213.47   647   \n",
       "\n",
       "    churn_probability  \n",
       "id                     \n",
       "0                   0  \n",
       "1                   0  \n",
       "2                   0  \n",
       "3                   0  \n",
       "4                   0  \n",
       "\n",
       "[5 rows x 24 columns]"
      ]
     },
     "execution_count": 6,
     "metadata": {},
     "output_type": "execute_result"
    }
   ],
   "source": [
    "data.head()"
   ]
  },
  {
   "cell_type": "markdown",
   "id": "e3fb9add",
   "metadata": {
    "papermill": {
     "duration": 0.037694,
     "end_time": "2021-08-13T07:16:41.476864",
     "exception": false,
     "start_time": "2021-08-13T07:16:41.439170",
     "status": "completed"
    },
    "tags": []
   },
   "source": [
    "Let's look at each variable's datatype:"
   ]
  },
  {
   "cell_type": "code",
   "execution_count": 7,
   "id": "cbd5d726",
   "metadata": {
    "execution": {
     "iopub.execute_input": "2021-08-13T07:16:41.557516Z",
     "iopub.status.busy": "2021-08-13T07:16:41.556428Z",
     "iopub.status.idle": "2021-08-13T07:16:41.578390Z",
     "shell.execute_reply": "2021-08-13T07:16:41.577859Z"
    },
    "papermill": {
     "duration": 0.064419,
     "end_time": "2021-08-13T07:16:41.578526",
     "exception": false,
     "start_time": "2021-08-13T07:16:41.514107",
     "status": "completed"
    },
    "tags": []
   },
   "outputs": [
    {
     "name": "stdout",
     "output_type": "stream",
     "text": [
      "<class 'pandas.core.frame.DataFrame'>\n",
      "Int64Index: 69999 entries, 0 to 69998\n",
      "Data columns (total 24 columns):\n",
      " #   Column             Non-Null Count  Dtype  \n",
      "---  ------             --------------  -----  \n",
      " 0   circle_id          69999 non-null  int64  \n",
      " 1   total_rech_amt_6   69999 non-null  int64  \n",
      " 2   total_rech_amt_7   69999 non-null  int64  \n",
      " 3   total_rech_amt_8   69999 non-null  int64  \n",
      " 4   total_og_mou_6     69999 non-null  float64\n",
      " 5   total_og_mou_7     69999 non-null  float64\n",
      " 6   total_og_mou_8     69999 non-null  float64\n",
      " 7   offnet_mou_6       67231 non-null  float64\n",
      " 8   offnet_mou_7       67312 non-null  float64\n",
      " 9   offnet_mou_8       66296 non-null  float64\n",
      " 10  arpu_3g_6          17568 non-null  float64\n",
      " 11  arpu_3g_7          17865 non-null  float64\n",
      " 12  arpu_3g_8          18417 non-null  float64\n",
      " 13  arpu_2g_6          17568 non-null  float64\n",
      " 14  arpu_2g_7          17865 non-null  float64\n",
      " 15  arpu_2g_8          18417 non-null  float64\n",
      " 16  vol_3g_mb_6        69999 non-null  float64\n",
      " 17  vol_3g_mb_7        69999 non-null  float64\n",
      " 18  vol_3g_mb_8        69999 non-null  float64\n",
      " 19  vol_2g_mb_6        69999 non-null  float64\n",
      " 20  vol_2g_mb_7        69999 non-null  float64\n",
      " 21  vol_2g_mb_8        69999 non-null  float64\n",
      " 22  aon                69999 non-null  int64  \n",
      " 23  churn_probability  69999 non-null  int64  \n",
      "dtypes: float64(18), int64(6)\n",
      "memory usage: 13.4 MB\n"
     ]
    }
   ],
   "source": [
    "data.info(verbose=1)"
   ]
  },
  {
   "cell_type": "markdown",
   "id": "8f71a0be",
   "metadata": {
    "papermill": {
     "duration": 0.037487,
     "end_time": "2021-08-13T07:16:41.653911",
     "exception": false,
     "start_time": "2021-08-13T07:16:41.616424",
     "status": "completed"
    },
    "tags": []
   },
   "source": [
    "Let's also summarize the features using the df.describe method:"
   ]
  },
  {
   "cell_type": "code",
   "execution_count": 8,
   "id": "0ed1a2ee",
   "metadata": {
    "execution": {
     "iopub.execute_input": "2021-08-13T07:16:41.734400Z",
     "iopub.status.busy": "2021-08-13T07:16:41.733760Z",
     "iopub.status.idle": "2021-08-13T07:16:41.851570Z",
     "shell.execute_reply": "2021-08-13T07:16:41.852036Z"
    },
    "papermill": {
     "duration": 0.160583,
     "end_time": "2021-08-13T07:16:41.852218",
     "exception": false,
     "start_time": "2021-08-13T07:16:41.691635",
     "status": "completed"
    },
    "tags": []
   },
   "outputs": [
    {
     "data": {
      "text/html": [
       "<div>\n",
       "<style scoped>\n",
       "    .dataframe tbody tr th:only-of-type {\n",
       "        vertical-align: middle;\n",
       "    }\n",
       "\n",
       "    .dataframe tbody tr th {\n",
       "        vertical-align: top;\n",
       "    }\n",
       "\n",
       "    .dataframe thead th {\n",
       "        text-align: right;\n",
       "    }\n",
       "</style>\n",
       "<table border=\"1\" class=\"dataframe\">\n",
       "  <thead>\n",
       "    <tr style=\"text-align: right;\">\n",
       "      <th></th>\n",
       "      <th>circle_id</th>\n",
       "      <th>total_rech_amt_6</th>\n",
       "      <th>total_rech_amt_7</th>\n",
       "      <th>total_rech_amt_8</th>\n",
       "      <th>total_og_mou_6</th>\n",
       "      <th>total_og_mou_7</th>\n",
       "      <th>total_og_mou_8</th>\n",
       "      <th>offnet_mou_6</th>\n",
       "      <th>offnet_mou_7</th>\n",
       "      <th>offnet_mou_8</th>\n",
       "      <th>...</th>\n",
       "      <th>arpu_2g_7</th>\n",
       "      <th>arpu_2g_8</th>\n",
       "      <th>vol_3g_mb_6</th>\n",
       "      <th>vol_3g_mb_7</th>\n",
       "      <th>vol_3g_mb_8</th>\n",
       "      <th>vol_2g_mb_6</th>\n",
       "      <th>vol_2g_mb_7</th>\n",
       "      <th>vol_2g_mb_8</th>\n",
       "      <th>aon</th>\n",
       "      <th>churn_probability</th>\n",
       "    </tr>\n",
       "  </thead>\n",
       "  <tbody>\n",
       "    <tr>\n",
       "      <th>count</th>\n",
       "      <td>69999.0</td>\n",
       "      <td>69999.000000</td>\n",
       "      <td>69999.000000</td>\n",
       "      <td>69999.000000</td>\n",
       "      <td>69999.000000</td>\n",
       "      <td>69999.000000</td>\n",
       "      <td>69999.000000</td>\n",
       "      <td>67231.000000</td>\n",
       "      <td>67312.000000</td>\n",
       "      <td>66296.000000</td>\n",
       "      <td>...</td>\n",
       "      <td>17865.000000</td>\n",
       "      <td>18417.000000</td>\n",
       "      <td>69999.000000</td>\n",
       "      <td>69999.000000</td>\n",
       "      <td>69999.000000</td>\n",
       "      <td>69999.000000</td>\n",
       "      <td>69999.000000</td>\n",
       "      <td>69999.000000</td>\n",
       "      <td>69999.000000</td>\n",
       "      <td>69999.000000</td>\n",
       "    </tr>\n",
       "    <tr>\n",
       "      <th>mean</th>\n",
       "      <td>109.0</td>\n",
       "      <td>328.139788</td>\n",
       "      <td>322.376363</td>\n",
       "      <td>323.846355</td>\n",
       "      <td>306.451436</td>\n",
       "      <td>310.572674</td>\n",
       "      <td>304.513065</td>\n",
       "      <td>198.874771</td>\n",
       "      <td>197.153383</td>\n",
       "      <td>196.543577</td>\n",
       "      <td>...</td>\n",
       "      <td>85.846074</td>\n",
       "      <td>86.348404</td>\n",
       "      <td>122.171882</td>\n",
       "      <td>128.934444</td>\n",
       "      <td>135.486541</td>\n",
       "      <td>51.773924</td>\n",
       "      <td>51.240204</td>\n",
       "      <td>50.127506</td>\n",
       "      <td>1220.639709</td>\n",
       "      <td>0.101887</td>\n",
       "    </tr>\n",
       "    <tr>\n",
       "      <th>std</th>\n",
       "      <td>0.0</td>\n",
       "      <td>404.211068</td>\n",
       "      <td>411.070120</td>\n",
       "      <td>426.181405</td>\n",
       "      <td>465.502866</td>\n",
       "      <td>479.131770</td>\n",
       "      <td>477.936832</td>\n",
       "      <td>316.818355</td>\n",
       "      <td>322.482226</td>\n",
       "      <td>324.089234</td>\n",
       "      <td>...</td>\n",
       "      <td>178.067280</td>\n",
       "      <td>170.297094</td>\n",
       "      <td>554.869965</td>\n",
       "      <td>554.096072</td>\n",
       "      <td>568.310234</td>\n",
       "      <td>212.513909</td>\n",
       "      <td>211.114667</td>\n",
       "      <td>213.101403</td>\n",
       "      <td>952.426321</td>\n",
       "      <td>0.302502</td>\n",
       "    </tr>\n",
       "    <tr>\n",
       "      <th>min</th>\n",
       "      <td>109.0</td>\n",
       "      <td>0.000000</td>\n",
       "      <td>0.000000</td>\n",
       "      <td>0.000000</td>\n",
       "      <td>0.000000</td>\n",
       "      <td>0.000000</td>\n",
       "      <td>0.000000</td>\n",
       "      <td>0.000000</td>\n",
       "      <td>0.000000</td>\n",
       "      <td>0.000000</td>\n",
       "      <td>...</td>\n",
       "      <td>-13.090000</td>\n",
       "      <td>-55.830000</td>\n",
       "      <td>0.000000</td>\n",
       "      <td>0.000000</td>\n",
       "      <td>0.000000</td>\n",
       "      <td>0.000000</td>\n",
       "      <td>0.000000</td>\n",
       "      <td>0.000000</td>\n",
       "      <td>180.000000</td>\n",
       "      <td>0.000000</td>\n",
       "    </tr>\n",
       "    <tr>\n",
       "      <th>25%</th>\n",
       "      <td>109.0</td>\n",
       "      <td>110.000000</td>\n",
       "      <td>100.000000</td>\n",
       "      <td>90.000000</td>\n",
       "      <td>44.780000</td>\n",
       "      <td>42.910000</td>\n",
       "      <td>38.710000</td>\n",
       "      <td>34.860000</td>\n",
       "      <td>32.240000</td>\n",
       "      <td>31.575000</td>\n",
       "      <td>...</td>\n",
       "      <td>0.000000</td>\n",
       "      <td>0.000000</td>\n",
       "      <td>0.000000</td>\n",
       "      <td>0.000000</td>\n",
       "      <td>0.000000</td>\n",
       "      <td>0.000000</td>\n",
       "      <td>0.000000</td>\n",
       "      <td>0.000000</td>\n",
       "      <td>468.000000</td>\n",
       "      <td>0.000000</td>\n",
       "    </tr>\n",
       "    <tr>\n",
       "      <th>50%</th>\n",
       "      <td>109.0</td>\n",
       "      <td>229.000000</td>\n",
       "      <td>220.000000</td>\n",
       "      <td>225.000000</td>\n",
       "      <td>145.280000</td>\n",
       "      <td>141.230000</td>\n",
       "      <td>138.360000</td>\n",
       "      <td>96.480000</td>\n",
       "      <td>91.885000</td>\n",
       "      <td>91.800000</td>\n",
       "      <td>...</td>\n",
       "      <td>8.800000</td>\n",
       "      <td>9.090000</td>\n",
       "      <td>0.000000</td>\n",
       "      <td>0.000000</td>\n",
       "      <td>0.000000</td>\n",
       "      <td>0.000000</td>\n",
       "      <td>0.000000</td>\n",
       "      <td>0.000000</td>\n",
       "      <td>868.000000</td>\n",
       "      <td>0.000000</td>\n",
       "    </tr>\n",
       "    <tr>\n",
       "      <th>75%</th>\n",
       "      <td>109.0</td>\n",
       "      <td>438.000000</td>\n",
       "      <td>430.000000</td>\n",
       "      <td>436.000000</td>\n",
       "      <td>374.305000</td>\n",
       "      <td>380.045000</td>\n",
       "      <td>370.895000</td>\n",
       "      <td>232.990000</td>\n",
       "      <td>227.630000</td>\n",
       "      <td>229.345000</td>\n",
       "      <td>...</td>\n",
       "      <td>122.070000</td>\n",
       "      <td>122.070000</td>\n",
       "      <td>0.000000</td>\n",
       "      <td>0.000000</td>\n",
       "      <td>0.000000</td>\n",
       "      <td>0.000000</td>\n",
       "      <td>0.000000</td>\n",
       "      <td>0.000000</td>\n",
       "      <td>1813.000000</td>\n",
       "      <td>0.000000</td>\n",
       "    </tr>\n",
       "    <tr>\n",
       "      <th>max</th>\n",
       "      <td>109.0</td>\n",
       "      <td>35190.000000</td>\n",
       "      <td>40335.000000</td>\n",
       "      <td>45320.000000</td>\n",
       "      <td>10674.030000</td>\n",
       "      <td>8285.640000</td>\n",
       "      <td>14043.060000</td>\n",
       "      <td>8362.360000</td>\n",
       "      <td>7043.980000</td>\n",
       "      <td>14007.340000</td>\n",
       "      <td>...</td>\n",
       "      <td>4809.360000</td>\n",
       "      <td>3483.170000</td>\n",
       "      <td>45735.400000</td>\n",
       "      <td>28144.120000</td>\n",
       "      <td>30036.060000</td>\n",
       "      <td>10285.900000</td>\n",
       "      <td>7873.550000</td>\n",
       "      <td>11117.610000</td>\n",
       "      <td>4337.000000</td>\n",
       "      <td>1.000000</td>\n",
       "    </tr>\n",
       "  </tbody>\n",
       "</table>\n",
       "<p>8 rows × 24 columns</p>\n",
       "</div>"
      ],
      "text/plain": [
       "       circle_id  total_rech_amt_6  total_rech_amt_7  total_rech_amt_8  \\\n",
       "count    69999.0      69999.000000      69999.000000      69999.000000   \n",
       "mean       109.0        328.139788        322.376363        323.846355   \n",
       "std          0.0        404.211068        411.070120        426.181405   \n",
       "min        109.0          0.000000          0.000000          0.000000   \n",
       "25%        109.0        110.000000        100.000000         90.000000   \n",
       "50%        109.0        229.000000        220.000000        225.000000   \n",
       "75%        109.0        438.000000        430.000000        436.000000   \n",
       "max        109.0      35190.000000      40335.000000      45320.000000   \n",
       "\n",
       "       total_og_mou_6  total_og_mou_7  total_og_mou_8  offnet_mou_6  \\\n",
       "count    69999.000000    69999.000000    69999.000000  67231.000000   \n",
       "mean       306.451436      310.572674      304.513065    198.874771   \n",
       "std        465.502866      479.131770      477.936832    316.818355   \n",
       "min          0.000000        0.000000        0.000000      0.000000   \n",
       "25%         44.780000       42.910000       38.710000     34.860000   \n",
       "50%        145.280000      141.230000      138.360000     96.480000   \n",
       "75%        374.305000      380.045000      370.895000    232.990000   \n",
       "max      10674.030000     8285.640000    14043.060000   8362.360000   \n",
       "\n",
       "       offnet_mou_7  offnet_mou_8  ...     arpu_2g_7     arpu_2g_8  \\\n",
       "count  67312.000000  66296.000000  ...  17865.000000  18417.000000   \n",
       "mean     197.153383    196.543577  ...     85.846074     86.348404   \n",
       "std      322.482226    324.089234  ...    178.067280    170.297094   \n",
       "min        0.000000      0.000000  ...    -13.090000    -55.830000   \n",
       "25%       32.240000     31.575000  ...      0.000000      0.000000   \n",
       "50%       91.885000     91.800000  ...      8.800000      9.090000   \n",
       "75%      227.630000    229.345000  ...    122.070000    122.070000   \n",
       "max     7043.980000  14007.340000  ...   4809.360000   3483.170000   \n",
       "\n",
       "        vol_3g_mb_6   vol_3g_mb_7   vol_3g_mb_8   vol_2g_mb_6   vol_2g_mb_7  \\\n",
       "count  69999.000000  69999.000000  69999.000000  69999.000000  69999.000000   \n",
       "mean     122.171882    128.934444    135.486541     51.773924     51.240204   \n",
       "std      554.869965    554.096072    568.310234    212.513909    211.114667   \n",
       "min        0.000000      0.000000      0.000000      0.000000      0.000000   \n",
       "25%        0.000000      0.000000      0.000000      0.000000      0.000000   \n",
       "50%        0.000000      0.000000      0.000000      0.000000      0.000000   \n",
       "75%        0.000000      0.000000      0.000000      0.000000      0.000000   \n",
       "max    45735.400000  28144.120000  30036.060000  10285.900000   7873.550000   \n",
       "\n",
       "        vol_2g_mb_8           aon  churn_probability  \n",
       "count  69999.000000  69999.000000       69999.000000  \n",
       "mean      50.127506   1220.639709           0.101887  \n",
       "std      213.101403    952.426321           0.302502  \n",
       "min        0.000000    180.000000           0.000000  \n",
       "25%        0.000000    468.000000           0.000000  \n",
       "50%        0.000000    868.000000           0.000000  \n",
       "75%        0.000000   1813.000000           0.000000  \n",
       "max    11117.610000   4337.000000           1.000000  \n",
       "\n",
       "[8 rows x 24 columns]"
      ]
     },
     "execution_count": 8,
     "metadata": {},
     "output_type": "execute_result"
    }
   ],
   "source": [
    "data.describe(include=\"all\")"
   ]
  },
  {
   "cell_type": "markdown",
   "id": "717a47b1",
   "metadata": {
    "papermill": {
     "duration": 0.03869,
     "end_time": "2021-08-13T07:16:41.929599",
     "exception": false,
     "start_time": "2021-08-13T07:16:41.890909",
     "status": "completed"
    },
    "tags": []
   },
   "source": [
    "# 2. Create X, y and then Train test split\n",
    "\n",
    "Lets create X and y datasets and skip \"circle_id\" since it has only 1 unique value"
   ]
  },
  {
   "cell_type": "code",
   "execution_count": 9,
   "id": "17d8d0f3",
   "metadata": {
    "execution": {
     "iopub.execute_input": "2021-08-13T07:16:42.012089Z",
     "iopub.status.busy": "2021-08-13T07:16:42.011484Z",
     "iopub.status.idle": "2021-08-13T07:16:42.016893Z",
     "shell.execute_reply": "2021-08-13T07:16:42.016407Z"
    },
    "papermill": {
     "duration": 0.04928,
     "end_time": "2021-08-13T07:16:42.017029",
     "exception": false,
     "start_time": "2021-08-13T07:16:41.967749",
     "status": "completed"
    },
    "tags": []
   },
   "outputs": [
    {
     "data": {
      "text/plain": [
       "array([109])"
      ]
     },
     "execution_count": 9,
     "metadata": {},
     "output_type": "execute_result"
    }
   ],
   "source": [
    "data['circle_id'].unique()"
   ]
  },
  {
   "cell_type": "code",
   "execution_count": 10,
   "id": "bd2a70a2",
   "metadata": {
    "execution": {
     "iopub.execute_input": "2021-08-13T07:16:42.107906Z",
     "iopub.status.busy": "2021-08-13T07:16:42.107312Z",
     "iopub.status.idle": "2021-08-13T07:16:42.111099Z",
     "shell.execute_reply": "2021-08-13T07:16:42.110536Z"
    },
    "papermill": {
     "duration": 0.054463,
     "end_time": "2021-08-13T07:16:42.111249",
     "exception": false,
     "start_time": "2021-08-13T07:16:42.056786",
     "status": "completed"
    },
    "tags": []
   },
   "outputs": [
    {
     "data": {
      "text/plain": [
       "((69999, 22), (69999,))"
      ]
     },
     "execution_count": 10,
     "metadata": {},
     "output_type": "execute_result"
    }
   ],
   "source": [
    "X = data.drop(['circle_id'],1).iloc[:,:-1]\n",
    "y = data.iloc[:,-1]\n",
    "\n",
    "X.shape, y.shape"
   ]
  },
  {
   "cell_type": "markdown",
   "id": "3b1e9eca",
   "metadata": {
    "papermill": {
     "duration": 0.039731,
     "end_time": "2021-08-13T07:16:42.189842",
     "exception": false,
     "start_time": "2021-08-13T07:16:42.150111",
     "status": "completed"
    },
    "tags": []
   },
   "source": [
    "Splitting train and test data to avoid any contamination of the test data"
   ]
  },
  {
   "cell_type": "code",
   "execution_count": 11,
   "id": "19049f7a",
   "metadata": {
    "execution": {
     "iopub.execute_input": "2021-08-13T07:16:42.274868Z",
     "iopub.status.busy": "2021-08-13T07:16:42.274265Z",
     "iopub.status.idle": "2021-08-13T07:16:42.293801Z",
     "shell.execute_reply": "2021-08-13T07:16:42.294259Z"
    },
    "papermill": {
     "duration": 0.065525,
     "end_time": "2021-08-13T07:16:42.294433",
     "exception": false,
     "start_time": "2021-08-13T07:16:42.228908",
     "status": "completed"
    },
    "tags": []
   },
   "outputs": [
    {
     "data": {
      "text/plain": [
       "((55999, 22), (14000, 22), (55999,), (14000,))"
      ]
     },
     "execution_count": 11,
     "metadata": {},
     "output_type": "execute_result"
    }
   ],
   "source": [
    "X_train, X_test, y_train, y_test = train_test_split(X, y, test_size=0.2)\n",
    "\n",
    "X_train.shape, X_test.shape, y_train.shape, y_test.shape"
   ]
  },
  {
   "cell_type": "code",
   "execution_count": 12,
   "id": "383c1ddb",
   "metadata": {
    "execution": {
     "iopub.execute_input": "2021-08-13T07:16:42.376039Z",
     "iopub.status.busy": "2021-08-13T07:16:42.375133Z",
     "iopub.status.idle": "2021-08-13T07:16:42.401238Z",
     "shell.execute_reply": "2021-08-13T07:16:42.401707Z"
    },
    "papermill": {
     "duration": 0.068615,
     "end_time": "2021-08-13T07:16:42.402101",
     "exception": false,
     "start_time": "2021-08-13T07:16:42.333486",
     "status": "completed"
    },
    "tags": []
   },
   "outputs": [
    {
     "data": {
      "text/html": [
       "<div>\n",
       "<style scoped>\n",
       "    .dataframe tbody tr th:only-of-type {\n",
       "        vertical-align: middle;\n",
       "    }\n",
       "\n",
       "    .dataframe tbody tr th {\n",
       "        vertical-align: top;\n",
       "    }\n",
       "\n",
       "    .dataframe thead th {\n",
       "        text-align: right;\n",
       "    }\n",
       "</style>\n",
       "<table border=\"1\" class=\"dataframe\">\n",
       "  <thead>\n",
       "    <tr style=\"text-align: right;\">\n",
       "      <th></th>\n",
       "      <th>total_rech_amt_6</th>\n",
       "      <th>total_rech_amt_7</th>\n",
       "      <th>total_rech_amt_8</th>\n",
       "      <th>total_og_mou_6</th>\n",
       "      <th>total_og_mou_7</th>\n",
       "      <th>total_og_mou_8</th>\n",
       "      <th>offnet_mou_6</th>\n",
       "      <th>offnet_mou_7</th>\n",
       "      <th>offnet_mou_8</th>\n",
       "      <th>arpu_3g_6</th>\n",
       "      <th>...</th>\n",
       "      <th>arpu_2g_6</th>\n",
       "      <th>arpu_2g_7</th>\n",
       "      <th>arpu_2g_8</th>\n",
       "      <th>vol_3g_mb_6</th>\n",
       "      <th>vol_3g_mb_7</th>\n",
       "      <th>vol_3g_mb_8</th>\n",
       "      <th>vol_2g_mb_6</th>\n",
       "      <th>vol_2g_mb_7</th>\n",
       "      <th>vol_2g_mb_8</th>\n",
       "      <th>aon</th>\n",
       "    </tr>\n",
       "    <tr>\n",
       "      <th>id</th>\n",
       "      <th></th>\n",
       "      <th></th>\n",
       "      <th></th>\n",
       "      <th></th>\n",
       "      <th></th>\n",
       "      <th></th>\n",
       "      <th></th>\n",
       "      <th></th>\n",
       "      <th></th>\n",
       "      <th></th>\n",
       "      <th></th>\n",
       "      <th></th>\n",
       "      <th></th>\n",
       "      <th></th>\n",
       "      <th></th>\n",
       "      <th></th>\n",
       "      <th></th>\n",
       "      <th></th>\n",
       "      <th></th>\n",
       "      <th></th>\n",
       "      <th></th>\n",
       "    </tr>\n",
       "  </thead>\n",
       "  <tbody>\n",
       "    <tr>\n",
       "      <th>68230</th>\n",
       "      <td>0</td>\n",
       "      <td>0</td>\n",
       "      <td>212</td>\n",
       "      <td>0.00</td>\n",
       "      <td>0.00</td>\n",
       "      <td>413.36</td>\n",
       "      <td>0.00</td>\n",
       "      <td>0.00</td>\n",
       "      <td>356.11</td>\n",
       "      <td>NaN</td>\n",
       "      <td>...</td>\n",
       "      <td>NaN</td>\n",
       "      <td>NaN</td>\n",
       "      <td>NaN</td>\n",
       "      <td>0.0</td>\n",
       "      <td>0.0</td>\n",
       "      <td>0.0</td>\n",
       "      <td>0.00</td>\n",
       "      <td>0.00</td>\n",
       "      <td>0.00</td>\n",
       "      <td>479</td>\n",
       "    </tr>\n",
       "    <tr>\n",
       "      <th>35918</th>\n",
       "      <td>90</td>\n",
       "      <td>100</td>\n",
       "      <td>47</td>\n",
       "      <td>1.16</td>\n",
       "      <td>0.00</td>\n",
       "      <td>0.00</td>\n",
       "      <td>0.80</td>\n",
       "      <td>0.00</td>\n",
       "      <td>0.00</td>\n",
       "      <td>NaN</td>\n",
       "      <td>...</td>\n",
       "      <td>NaN</td>\n",
       "      <td>NaN</td>\n",
       "      <td>20.60</td>\n",
       "      <td>0.0</td>\n",
       "      <td>0.0</td>\n",
       "      <td>0.0</td>\n",
       "      <td>0.00</td>\n",
       "      <td>0.00</td>\n",
       "      <td>123.60</td>\n",
       "      <td>767</td>\n",
       "    </tr>\n",
       "    <tr>\n",
       "      <th>33141</th>\n",
       "      <td>193</td>\n",
       "      <td>240</td>\n",
       "      <td>335</td>\n",
       "      <td>81.43</td>\n",
       "      <td>89.08</td>\n",
       "      <td>90.91</td>\n",
       "      <td>76.09</td>\n",
       "      <td>85.86</td>\n",
       "      <td>85.69</td>\n",
       "      <td>58.65</td>\n",
       "      <td>...</td>\n",
       "      <td>68.7</td>\n",
       "      <td>109.78</td>\n",
       "      <td>82.38</td>\n",
       "      <td>0.0</td>\n",
       "      <td>0.0</td>\n",
       "      <td>0.0</td>\n",
       "      <td>271.49</td>\n",
       "      <td>280.33</td>\n",
       "      <td>678.31</td>\n",
       "      <td>1248</td>\n",
       "    </tr>\n",
       "    <tr>\n",
       "      <th>2020</th>\n",
       "      <td>10</td>\n",
       "      <td>120</td>\n",
       "      <td>120</td>\n",
       "      <td>54.63</td>\n",
       "      <td>125.98</td>\n",
       "      <td>80.78</td>\n",
       "      <td>42.46</td>\n",
       "      <td>105.98</td>\n",
       "      <td>56.06</td>\n",
       "      <td>NaN</td>\n",
       "      <td>...</td>\n",
       "      <td>NaN</td>\n",
       "      <td>NaN</td>\n",
       "      <td>NaN</td>\n",
       "      <td>0.0</td>\n",
       "      <td>0.0</td>\n",
       "      <td>0.0</td>\n",
       "      <td>0.00</td>\n",
       "      <td>0.00</td>\n",
       "      <td>0.00</td>\n",
       "      <td>853</td>\n",
       "    </tr>\n",
       "    <tr>\n",
       "      <th>56082</th>\n",
       "      <td>177</td>\n",
       "      <td>230</td>\n",
       "      <td>160</td>\n",
       "      <td>145.88</td>\n",
       "      <td>129.19</td>\n",
       "      <td>109.04</td>\n",
       "      <td>127.88</td>\n",
       "      <td>122.01</td>\n",
       "      <td>106.08</td>\n",
       "      <td>0.00</td>\n",
       "      <td>...</td>\n",
       "      <td>0.0</td>\n",
       "      <td>NaN</td>\n",
       "      <td>NaN</td>\n",
       "      <td>0.0</td>\n",
       "      <td>0.0</td>\n",
       "      <td>0.0</td>\n",
       "      <td>0.00</td>\n",
       "      <td>0.00</td>\n",
       "      <td>0.00</td>\n",
       "      <td>1905</td>\n",
       "    </tr>\n",
       "  </tbody>\n",
       "</table>\n",
       "<p>5 rows × 22 columns</p>\n",
       "</div>"
      ],
      "text/plain": [
       "       total_rech_amt_6  total_rech_amt_7  total_rech_amt_8  total_og_mou_6  \\\n",
       "id                                                                            \n",
       "68230                 0                 0               212            0.00   \n",
       "35918                90               100                47            1.16   \n",
       "33141               193               240               335           81.43   \n",
       "2020                 10               120               120           54.63   \n",
       "56082               177               230               160          145.88   \n",
       "\n",
       "       total_og_mou_7  total_og_mou_8  offnet_mou_6  offnet_mou_7  \\\n",
       "id                                                                  \n",
       "68230            0.00          413.36          0.00          0.00   \n",
       "35918            0.00            0.00          0.80          0.00   \n",
       "33141           89.08           90.91         76.09         85.86   \n",
       "2020           125.98           80.78         42.46        105.98   \n",
       "56082          129.19          109.04        127.88        122.01   \n",
       "\n",
       "       offnet_mou_8  arpu_3g_6  ...  arpu_2g_6  arpu_2g_7  arpu_2g_8  \\\n",
       "id                              ...                                    \n",
       "68230        356.11        NaN  ...        NaN        NaN        NaN   \n",
       "35918          0.00        NaN  ...        NaN        NaN      20.60   \n",
       "33141         85.69      58.65  ...       68.7     109.78      82.38   \n",
       "2020          56.06        NaN  ...        NaN        NaN        NaN   \n",
       "56082        106.08       0.00  ...        0.0        NaN        NaN   \n",
       "\n",
       "       vol_3g_mb_6  vol_3g_mb_7  vol_3g_mb_8  vol_2g_mb_6  vol_2g_mb_7  \\\n",
       "id                                                                       \n",
       "68230          0.0          0.0          0.0         0.00         0.00   \n",
       "35918          0.0          0.0          0.0         0.00         0.00   \n",
       "33141          0.0          0.0          0.0       271.49       280.33   \n",
       "2020           0.0          0.0          0.0         0.00         0.00   \n",
       "56082          0.0          0.0          0.0         0.00         0.00   \n",
       "\n",
       "       vol_2g_mb_8   aon  \n",
       "id                        \n",
       "68230         0.00   479  \n",
       "35918       123.60   767  \n",
       "33141       678.31  1248  \n",
       "2020          0.00   853  \n",
       "56082         0.00  1905  \n",
       "\n",
       "[5 rows x 22 columns]"
      ]
     },
     "execution_count": 12,
     "metadata": {},
     "output_type": "execute_result"
    }
   ],
   "source": [
    "X_train.head()"
   ]
  },
  {
   "cell_type": "markdown",
   "id": "6a29fbf5",
   "metadata": {
    "papermill": {
     "duration": 0.039575,
     "end_time": "2021-08-13T07:16:42.482838",
     "exception": false,
     "start_time": "2021-08-13T07:16:42.443263",
     "status": "completed"
    },
    "tags": []
   },
   "source": [
    "# 3. Handling Missing data\n",
    "\n",
    "First lets analyse the missing data. We can use missingno library for quick visualizations."
   ]
  },
  {
   "cell_type": "code",
   "execution_count": 13,
   "id": "6360a919",
   "metadata": {
    "execution": {
     "iopub.execute_input": "2021-08-13T07:16:42.565967Z",
     "iopub.status.busy": "2021-08-13T07:16:42.565075Z",
     "iopub.status.idle": "2021-08-13T07:16:44.221811Z",
     "shell.execute_reply": "2021-08-13T07:16:44.222300Z"
    },
    "papermill": {
     "duration": 1.699725,
     "end_time": "2021-08-13T07:16:44.222465",
     "exception": false,
     "start_time": "2021-08-13T07:16:42.522740",
     "status": "completed"
    },
    "tags": []
   },
   "outputs": [
    {
     "data": {
      "text/plain": [
       "<AxesSubplot:>"
      ]
     },
     "execution_count": 13,
     "metadata": {},
     "output_type": "execute_result"
    },
    {
     "data": {
      "image/png": "[encoded data removed]",
      "text/plain": [
       "<Figure size 1728x720 with 3 Axes>"
      ]
     },
     "metadata": {
      "needs_background": "light"
     },
     "output_type": "display_data"
    }
   ],
   "source": [
    "msno.bar(X_train)"
   ]
  },
  {
   "cell_type": "code",
   "execution_count": 14,
   "id": "1217cc5e",
   "metadata": {
    "execution": {
     "iopub.execute_input": "2021-08-13T07:16:44.310021Z",
     "iopub.status.busy": "2021-08-13T07:16:44.309094Z",
     "iopub.status.idle": "2021-08-13T07:16:45.259337Z",
     "shell.execute_reply": "2021-08-13T07:16:45.259749Z"
    },
    "papermill": {
     "duration": 0.995529,
     "end_time": "2021-08-13T07:16:45.259912",
     "exception": false,
     "start_time": "2021-08-13T07:16:44.264383",
     "status": "completed"
    },
    "tags": []
   },
   "outputs": [
    {
     "data": {
      "text/plain": [
       "<AxesSubplot:>"
      ]
     },
     "execution_count": 14,
     "metadata": {},
     "output_type": "execute_result"
    },
    {
     "data": {
      "image/png": "[encoded data removed]",
      "text/plain": [
       "<Figure size 1800x720 with 2 Axes>"
      ]
     },
     "metadata": {
      "needs_background": "light"
     },
     "output_type": "display_data"
    }
   ],
   "source": [
    "msno.matrix(X_train)"
   ]
  },
  {
   "cell_type": "markdown",
   "id": "6d509008",
   "metadata": {
    "papermill": {
     "duration": 0.043599,
     "end_time": "2021-08-13T07:16:45.347986",
     "exception": false,
     "start_time": "2021-08-13T07:16:45.304387",
     "status": "completed"
    },
    "tags": []
   },
   "source": [
    "Lets also calculate the % missing data for each column:"
   ]
  },
  {
   "cell_type": "code",
   "execution_count": 15,
   "id": "910cbe80",
   "metadata": {
    "execution": {
     "iopub.execute_input": "2021-08-13T07:16:45.443329Z",
     "iopub.status.busy": "2021-08-13T07:16:45.442761Z",
     "iopub.status.idle": "2021-08-13T07:16:45.453451Z",
     "shell.execute_reply": "2021-08-13T07:16:45.453853Z"
    },
    "papermill": {
     "duration": 0.06183,
     "end_time": "2021-08-13T07:16:45.454014",
     "exception": false,
     "start_time": "2021-08-13T07:16:45.392184",
     "status": "completed"
    },
    "tags": []
   },
   "outputs": [
    {
     "data": {
      "text/plain": [
       "total_rech_amt_6     0.000000\n",
       "total_rech_amt_7     0.000000\n",
       "total_rech_amt_8     0.000000\n",
       "total_og_mou_6       0.000000\n",
       "total_og_mou_7       0.000000\n",
       "total_og_mou_8       0.000000\n",
       "offnet_mou_6         3.955428\n",
       "offnet_mou_7         3.898284\n",
       "offnet_mou_8         5.328667\n",
       "arpu_3g_6           74.899552\n",
       "arpu_3g_7           74.458472\n",
       "arpu_3g_8           73.792389\n",
       "arpu_2g_6           74.899552\n",
       "arpu_2g_7           74.458472\n",
       "arpu_2g_8           73.792389\n",
       "vol_3g_mb_6          0.000000\n",
       "vol_3g_mb_7          0.000000\n",
       "vol_3g_mb_8          0.000000\n",
       "vol_2g_mb_6          0.000000\n",
       "vol_2g_mb_7          0.000000\n",
       "vol_2g_mb_8          0.000000\n",
       "aon                  0.000000\n",
       "dtype: float64"
      ]
     },
     "execution_count": 15,
     "metadata": {},
     "output_type": "execute_result"
    }
   ],
   "source": [
    "missing_data_percent = 100*X_train.isnull().sum()/len(y_train)\n",
    "missing_data_percent"
   ]
  },
  {
   "cell_type": "markdown",
   "id": "30dbf492",
   "metadata": {
    "papermill": {
     "duration": 0.043963,
     "end_time": "2021-08-13T07:16:45.542693",
     "exception": false,
     "start_time": "2021-08-13T07:16:45.498730",
     "status": "completed"
    },
    "tags": []
   },
   "source": [
    "Since too much missing information would make a column not really a great predictor for churn, we drop these columns and keep only the ones which have less than 40% missing data."
   ]
  },
  {
   "cell_type": "code",
   "execution_count": 16,
   "id": "e94c195c",
   "metadata": {
    "execution": {
     "iopub.execute_input": "2021-08-13T07:16:45.634867Z",
     "iopub.status.busy": "2021-08-13T07:16:45.634230Z",
     "iopub.status.idle": "2021-08-13T07:16:45.641492Z",
     "shell.execute_reply": "2021-08-13T07:16:45.640994Z"
    },
    "papermill": {
     "duration": 0.054309,
     "end_time": "2021-08-13T07:16:45.641625",
     "exception": false,
     "start_time": "2021-08-13T07:16:45.587316",
     "status": "completed"
    },
    "tags": []
   },
   "outputs": [
    {
     "data": {
      "text/plain": [
       "Index(['total_rech_amt_6', 'total_rech_amt_7', 'total_rech_amt_8',\n",
       "       'total_og_mou_6', 'total_og_mou_7', 'total_og_mou_8', 'offnet_mou_6',\n",
       "       'offnet_mou_7', 'offnet_mou_8', 'vol_3g_mb_6', 'vol_3g_mb_7',\n",
       "       'vol_3g_mb_8', 'vol_2g_mb_6', 'vol_2g_mb_7', 'vol_2g_mb_8', 'aon'],\n",
       "      dtype='object')"
      ]
     },
     "execution_count": 16,
     "metadata": {},
     "output_type": "execute_result"
    }
   ],
   "source": [
    "new_vars = missing_data_percent[missing_data_percent.le(40)].index\n",
    "new_vars"
   ]
  },
  {
   "cell_type": "code",
   "execution_count": 17,
   "id": "1935c440",
   "metadata": {
    "execution": {
     "iopub.execute_input": "2021-08-13T07:16:45.734737Z",
     "iopub.status.busy": "2021-08-13T07:16:45.734145Z",
     "iopub.status.idle": "2021-08-13T07:16:45.742290Z",
     "shell.execute_reply": "2021-08-13T07:16:45.741799Z"
    },
    "papermill": {
     "duration": 0.05574,
     "end_time": "2021-08-13T07:16:45.742430",
     "exception": false,
     "start_time": "2021-08-13T07:16:45.686690",
     "status": "completed"
    },
    "tags": []
   },
   "outputs": [
    {
     "data": {
      "text/plain": [
       "(55999, 16)"
      ]
     },
     "execution_count": 17,
     "metadata": {},
     "output_type": "execute_result"
    }
   ],
   "source": [
    "X_train_filtered = X_train[new_vars]\n",
    "X_train_filtered.shape"
   ]
  },
  {
   "cell_type": "markdown",
   "id": "a60c8a2f",
   "metadata": {
    "papermill": {
     "duration": 0.045444,
     "end_time": "2021-08-13T07:16:45.832903",
     "exception": false,
     "start_time": "2021-08-13T07:16:45.787459",
     "status": "completed"
    },
    "tags": []
   },
   "source": [
    "Next, we try imputation on variables with any amount of missing data still left. There are multiple ways of imputing data, and each will require a good business understanding of what the missing data is and how you may handle it.\n",
    "\n",
    "Some tips while working with missing data - \n",
    "\n",
    "1. Can simply replace missing values directly with a constant value such as 0\n",
    "2. In certain cases you may want to replace it with the average value for each column respectively\n",
    "3. For timeseries data, you may consider using linear or spline interplolation between a set of points, if you have data available for some of the months, and missing for the others.\n",
    "4. You can consider more advance methods for imputation such as MICE.\n",
    "\n",
    "In our case, I will just demostrate a simple imputation with constant values as zeros."
   ]
  },
  {
   "cell_type": "code",
   "execution_count": 18,
   "id": "7ece2cff",
   "metadata": {
    "execution": {
     "iopub.execute_input": "2021-08-13T07:16:45.927493Z",
     "iopub.status.busy": "2021-08-13T07:16:45.926849Z",
     "iopub.status.idle": "2021-08-13T07:16:45.934908Z",
     "shell.execute_reply": "2021-08-13T07:16:45.934456Z"
    },
    "papermill": {
     "duration": 0.056957,
     "end_time": "2021-08-13T07:16:45.935041",
     "exception": false,
     "start_time": "2021-08-13T07:16:45.878084",
     "status": "completed"
    },
    "tags": []
   },
   "outputs": [
    {
     "data": {
      "text/plain": [
       "Index(['offnet_mou_6', 'offnet_mou_7', 'offnet_mou_8'], dtype='object')"
      ]
     },
     "execution_count": 18,
     "metadata": {},
     "output_type": "execute_result"
    }
   ],
   "source": [
    "missing_data_percent = X_train_filtered.isnull().any()\n",
    "impute_cols = missing_data_percent[missing_data_percent.gt(0)].index\n",
    "impute_cols"
   ]
  },
  {
   "cell_type": "code",
   "execution_count": 19,
   "id": "cb1574ed",
   "metadata": {
    "execution": {
     "iopub.execute_input": "2021-08-13T07:16:46.034023Z",
     "iopub.status.busy": "2021-08-13T07:16:46.032946Z",
     "iopub.status.idle": "2021-08-13T07:16:46.065689Z",
     "shell.execute_reply": "2021-08-13T07:16:46.065145Z"
    },
    "papermill": {
     "duration": 0.085462,
     "end_time": "2021-08-13T07:16:46.065826",
     "exception": false,
     "start_time": "2021-08-13T07:16:45.980364",
     "status": "completed"
    },
    "tags": []
   },
   "outputs": [],
   "source": [
    "imp = SimpleImputer(strategy='constant', fill_value=0)\n",
    "X_train_filtered[impute_cols] = imp.fit_transform(X_train_filtered[impute_cols])"
   ]
  },
  {
   "cell_type": "code",
   "execution_count": 20,
   "id": "fb20d440",
   "metadata": {
    "execution": {
     "iopub.execute_input": "2021-08-13T07:16:46.161326Z",
     "iopub.status.busy": "2021-08-13T07:16:46.160412Z",
     "iopub.status.idle": "2021-08-13T07:16:47.024882Z",
     "shell.execute_reply": "2021-08-13T07:16:47.024341Z"
    },
    "papermill": {
     "duration": 0.914023,
     "end_time": "2021-08-13T07:16:47.025018",
     "exception": false,
     "start_time": "2021-08-13T07:16:46.110995",
     "status": "completed"
    },
    "tags": []
   },
   "outputs": [
    {
     "data": {
      "text/plain": [
       "<AxesSubplot:>"
      ]
     },
     "execution_count": 20,
     "metadata": {},
     "output_type": "execute_result"
    },
    {
     "data": {
      "image/png": "[encoded data removed]",
      "text/plain": [
       "<Figure size 1728x720 with 3 Axes>"
      ]
     },
     "metadata": {
      "needs_background": "light"
     },
     "output_type": "display_data"
    }
   ],
   "source": [
    "msno.bar(X_train_filtered)"
   ]
  },
  {
   "cell_type": "code",
   "execution_count": 21,
   "id": "fdac87cc",
   "metadata": {
    "execution": {
     "iopub.execute_input": "2021-08-13T07:16:47.125828Z",
     "iopub.status.busy": "2021-08-13T07:16:47.124911Z",
     "iopub.status.idle": "2021-08-13T07:16:47.205022Z",
     "shell.execute_reply": "2021-08-13T07:16:47.205459Z"
    },
    "papermill": {
     "duration": 0.132076,
     "end_time": "2021-08-13T07:16:47.205627",
     "exception": false,
     "start_time": "2021-08-13T07:16:47.073551",
     "status": "completed"
    },
    "tags": []
   },
   "outputs": [
    {
     "data": {
      "text/html": [
       "<div>\n",
       "<style scoped>\n",
       "    .dataframe tbody tr th:only-of-type {\n",
       "        vertical-align: middle;\n",
       "    }\n",
       "\n",
       "    .dataframe tbody tr th {\n",
       "        vertical-align: top;\n",
       "    }\n",
       "\n",
       "    .dataframe thead th {\n",
       "        text-align: right;\n",
       "    }\n",
       "</style>\n",
       "<table border=\"1\" class=\"dataframe\">\n",
       "  <thead>\n",
       "    <tr style=\"text-align: right;\">\n",
       "      <th></th>\n",
       "      <th>total_rech_amt_6</th>\n",
       "      <th>total_rech_amt_7</th>\n",
       "      <th>total_rech_amt_8</th>\n",
       "      <th>total_og_mou_6</th>\n",
       "      <th>total_og_mou_7</th>\n",
       "      <th>total_og_mou_8</th>\n",
       "      <th>offnet_mou_6</th>\n",
       "      <th>offnet_mou_7</th>\n",
       "      <th>offnet_mou_8</th>\n",
       "      <th>vol_3g_mb_6</th>\n",
       "      <th>vol_3g_mb_7</th>\n",
       "      <th>vol_3g_mb_8</th>\n",
       "      <th>vol_2g_mb_6</th>\n",
       "      <th>vol_2g_mb_7</th>\n",
       "      <th>vol_2g_mb_8</th>\n",
       "      <th>aon</th>\n",
       "    </tr>\n",
       "  </thead>\n",
       "  <tbody>\n",
       "    <tr>\n",
       "      <th>count</th>\n",
       "      <td>55999.000000</td>\n",
       "      <td>55999.000000</td>\n",
       "      <td>55999.000000</td>\n",
       "      <td>55999.000000</td>\n",
       "      <td>55999.000000</td>\n",
       "      <td>55999.000000</td>\n",
       "      <td>55999.000000</td>\n",
       "      <td>55999.000000</td>\n",
       "      <td>55999.000000</td>\n",
       "      <td>55999.000000</td>\n",
       "      <td>55999.000000</td>\n",
       "      <td>55999.000000</td>\n",
       "      <td>55999.000000</td>\n",
       "      <td>55999.000000</td>\n",
       "      <td>55999.000000</td>\n",
       "      <td>55999.00000</td>\n",
       "    </tr>\n",
       "    <tr>\n",
       "      <th>mean</th>\n",
       "      <td>328.443079</td>\n",
       "      <td>323.267148</td>\n",
       "      <td>324.287059</td>\n",
       "      <td>306.923158</td>\n",
       "      <td>311.161165</td>\n",
       "      <td>305.737210</td>\n",
       "      <td>191.002213</td>\n",
       "      <td>189.402289</td>\n",
       "      <td>186.110931</td>\n",
       "      <td>121.980578</td>\n",
       "      <td>129.689519</td>\n",
       "      <td>136.102482</td>\n",
       "      <td>51.888564</td>\n",
       "      <td>51.034042</td>\n",
       "      <td>49.858109</td>\n",
       "      <td>1220.13177</td>\n",
       "    </tr>\n",
       "    <tr>\n",
       "      <th>std</th>\n",
       "      <td>406.974780</td>\n",
       "      <td>415.563194</td>\n",
       "      <td>428.009628</td>\n",
       "      <td>468.546044</td>\n",
       "      <td>481.746916</td>\n",
       "      <td>479.937889</td>\n",
       "      <td>312.965428</td>\n",
       "      <td>317.878777</td>\n",
       "      <td>313.269475</td>\n",
       "      <td>568.335811</td>\n",
       "      <td>564.476438</td>\n",
       "      <td>575.708914</td>\n",
       "      <td>210.934853</td>\n",
       "      <td>206.699198</td>\n",
       "      <td>208.060250</td>\n",
       "      <td>952.09862</td>\n",
       "    </tr>\n",
       "    <tr>\n",
       "      <th>min</th>\n",
       "      <td>0.000000</td>\n",
       "      <td>0.000000</td>\n",
       "      <td>0.000000</td>\n",
       "      <td>0.000000</td>\n",
       "      <td>0.000000</td>\n",
       "      <td>0.000000</td>\n",
       "      <td>0.000000</td>\n",
       "      <td>0.000000</td>\n",
       "      <td>0.000000</td>\n",
       "      <td>0.000000</td>\n",
       "      <td>0.000000</td>\n",
       "      <td>0.000000</td>\n",
       "      <td>0.000000</td>\n",
       "      <td>0.000000</td>\n",
       "      <td>0.000000</td>\n",
       "      <td>180.00000</td>\n",
       "    </tr>\n",
       "    <tr>\n",
       "      <th>25%</th>\n",
       "      <td>110.000000</td>\n",
       "      <td>100.000000</td>\n",
       "      <td>90.000000</td>\n",
       "      <td>45.190000</td>\n",
       "      <td>43.085000</td>\n",
       "      <td>38.710000</td>\n",
       "      <td>29.110000</td>\n",
       "      <td>26.610000</td>\n",
       "      <td>23.790000</td>\n",
       "      <td>0.000000</td>\n",
       "      <td>0.000000</td>\n",
       "      <td>0.000000</td>\n",
       "      <td>0.000000</td>\n",
       "      <td>0.000000</td>\n",
       "      <td>0.000000</td>\n",
       "      <td>468.50000</td>\n",
       "    </tr>\n",
       "    <tr>\n",
       "      <th>50%</th>\n",
       "      <td>230.000000</td>\n",
       "      <td>220.000000</td>\n",
       "      <td>225.000000</td>\n",
       "      <td>145.640000</td>\n",
       "      <td>141.830000</td>\n",
       "      <td>138.140000</td>\n",
       "      <td>89.940000</td>\n",
       "      <td>85.560000</td>\n",
       "      <td>82.960000</td>\n",
       "      <td>0.000000</td>\n",
       "      <td>0.000000</td>\n",
       "      <td>0.000000</td>\n",
       "      <td>0.000000</td>\n",
       "      <td>0.000000</td>\n",
       "      <td>0.000000</td>\n",
       "      <td>868.00000</td>\n",
       "    </tr>\n",
       "    <tr>\n",
       "      <th>75%</th>\n",
       "      <td>437.000000</td>\n",
       "      <td>430.000000</td>\n",
       "      <td>436.000000</td>\n",
       "      <td>373.985000</td>\n",
       "      <td>379.240000</td>\n",
       "      <td>371.905000</td>\n",
       "      <td>223.580000</td>\n",
       "      <td>218.070000</td>\n",
       "      <td>216.135000</td>\n",
       "      <td>0.000000</td>\n",
       "      <td>0.000000</td>\n",
       "      <td>0.000000</td>\n",
       "      <td>0.000000</td>\n",
       "      <td>0.000000</td>\n",
       "      <td>0.000000</td>\n",
       "      <td>1809.00000</td>\n",
       "    </tr>\n",
       "    <tr>\n",
       "      <th>max</th>\n",
       "      <td>35190.000000</td>\n",
       "      <td>40335.000000</td>\n",
       "      <td>45320.000000</td>\n",
       "      <td>10674.030000</td>\n",
       "      <td>8285.640000</td>\n",
       "      <td>11046.740000</td>\n",
       "      <td>8362.360000</td>\n",
       "      <td>7043.980000</td>\n",
       "      <td>7460.210000</td>\n",
       "      <td>45735.400000</td>\n",
       "      <td>28144.120000</td>\n",
       "      <td>30036.060000</td>\n",
       "      <td>10285.900000</td>\n",
       "      <td>7873.550000</td>\n",
       "      <td>8255.670000</td>\n",
       "      <td>4321.00000</td>\n",
       "    </tr>\n",
       "  </tbody>\n",
       "</table>\n",
       "</div>"
      ],
      "text/plain": [
       "       total_rech_amt_6  total_rech_amt_7  total_rech_amt_8  total_og_mou_6  \\\n",
       "count      55999.000000      55999.000000      55999.000000    55999.000000   \n",
       "mean         328.443079        323.267148        324.287059      306.923158   \n",
       "std          406.974780        415.563194        428.009628      468.546044   \n",
       "min            0.000000          0.000000          0.000000        0.000000   \n",
       "25%          110.000000        100.000000         90.000000       45.190000   \n",
       "50%          230.000000        220.000000        225.000000      145.640000   \n",
       "75%          437.000000        430.000000        436.000000      373.985000   \n",
       "max        35190.000000      40335.000000      45320.000000    10674.030000   \n",
       "\n",
       "       total_og_mou_7  total_og_mou_8  offnet_mou_6  offnet_mou_7  \\\n",
       "count    55999.000000    55999.000000  55999.000000  55999.000000   \n",
       "mean       311.161165      305.737210    191.002213    189.402289   \n",
       "std        481.746916      479.937889    312.965428    317.878777   \n",
       "min          0.000000        0.000000      0.000000      0.000000   \n",
       "25%         43.085000       38.710000     29.110000     26.610000   \n",
       "50%        141.830000      138.140000     89.940000     85.560000   \n",
       "75%        379.240000      371.905000    223.580000    218.070000   \n",
       "max       8285.640000    11046.740000   8362.360000   7043.980000   \n",
       "\n",
       "       offnet_mou_8   vol_3g_mb_6   vol_3g_mb_7   vol_3g_mb_8   vol_2g_mb_6  \\\n",
       "count  55999.000000  55999.000000  55999.000000  55999.000000  55999.000000   \n",
       "mean     186.110931    121.980578    129.689519    136.102482     51.888564   \n",
       "std      313.269475    568.335811    564.476438    575.708914    210.934853   \n",
       "min        0.000000      0.000000      0.000000      0.000000      0.000000   \n",
       "25%       23.790000      0.000000      0.000000      0.000000      0.000000   \n",
       "50%       82.960000      0.000000      0.000000      0.000000      0.000000   \n",
       "75%      216.135000      0.000000      0.000000      0.000000      0.000000   \n",
       "max     7460.210000  45735.400000  28144.120000  30036.060000  10285.900000   \n",
       "\n",
       "        vol_2g_mb_7   vol_2g_mb_8          aon  \n",
       "count  55999.000000  55999.000000  55999.00000  \n",
       "mean      51.034042     49.858109   1220.13177  \n",
       "std      206.699198    208.060250    952.09862  \n",
       "min        0.000000      0.000000    180.00000  \n",
       "25%        0.000000      0.000000    468.50000  \n",
       "50%        0.000000      0.000000    868.00000  \n",
       "75%        0.000000      0.000000   1809.00000  \n",
       "max     7873.550000   8255.670000   4321.00000  "
      ]
     },
     "execution_count": 21,
     "metadata": {},
     "output_type": "execute_result"
    }
   ],
   "source": [
    "X_train_filtered.describe()"
   ]
  },
  {
   "cell_type": "markdown",
   "id": "9857d0c5",
   "metadata": {
    "papermill": {
     "duration": 0.047951,
     "end_time": "2021-08-13T07:16:47.301731",
     "exception": false,
     "start_time": "2021-08-13T07:16:47.253780",
     "status": "completed"
    },
    "tags": []
   },
   "source": [
    "# 4. Exploratory Data Analysis & Preprocessing\n",
    "\n",
    "Lets start by analysing the univariate distributions of each feature."
   ]
  },
  {
   "cell_type": "code",
   "execution_count": 22,
   "id": "cea7d58e",
   "metadata": {
    "execution": {
     "iopub.execute_input": "2021-08-13T07:16:47.401613Z",
     "iopub.status.busy": "2021-08-13T07:16:47.400680Z",
     "iopub.status.idle": "2021-08-13T07:16:48.234665Z",
     "shell.execute_reply": "2021-08-13T07:16:48.234180Z"
    },
    "papermill": {
     "duration": 0.885464,
     "end_time": "2021-08-13T07:16:48.234798",
     "exception": false,
     "start_time": "2021-08-13T07:16:47.349334",
     "status": "completed"
    },
    "tags": []
   },
   "outputs": [
    {
     "data": {
      "text/plain": [
       "<AxesSubplot:>"
      ]
     },
     "execution_count": 22,
     "metadata": {},
     "output_type": "execute_result"
    },
    {
     "data": {
      "image/png": "[encoded data removed]",
      "text/plain": [
       "<Figure size 1080x576 with 1 Axes>"
      ]
     },
     "metadata": {
      "needs_background": "light"
     },
     "output_type": "display_data"
    }
   ],
   "source": [
    "plt.figure(figsize=(15,8))\n",
    "plt.xticks(rotation=45)\n",
    "sns.boxplot(data = X_train_filtered)"
   ]
  },
  {
   "cell_type": "markdown",
   "id": "381045b0",
   "metadata": {
    "papermill": {
     "duration": 0.050148,
     "end_time": "2021-08-13T07:16:48.336611",
     "exception": false,
     "start_time": "2021-08-13T07:16:48.286463",
     "status": "completed"
    },
    "tags": []
   },
   "source": [
    "### 4.1 Handling outliers\n",
    "\n",
    "The box plots of these features show there a lot of outliers. These can be capped with k-sigma method."
   ]
  },
  {
   "cell_type": "code",
   "execution_count": 23,
   "id": "ff8ffc1c",
   "metadata": {
    "execution": {
     "iopub.execute_input": "2021-08-13T07:16:48.441999Z",
     "iopub.status.busy": "2021-08-13T07:16:48.441422Z",
     "iopub.status.idle": "2021-08-13T07:16:48.444170Z",
     "shell.execute_reply": "2021-08-13T07:16:48.443754Z"
    },
    "papermill": {
     "duration": 0.058225,
     "end_time": "2021-08-13T07:16:48.444315",
     "exception": false,
     "start_time": "2021-08-13T07:16:48.386090",
     "status": "completed"
    },
    "tags": []
   },
   "outputs": [],
   "source": [
    "def cap_outliers(array, k=3):\n",
    "    upper_limit = array.mean() + k*array.std()\n",
    "    lower_limit = array.mean() - k*array.std()\n",
    "    array[array<lower_limit] = lower_limit\n",
    "    array[array>upper_limit] = upper_limit\n",
    "    return array"
   ]
  },
  {
   "cell_type": "code",
   "execution_count": 24,
   "id": "92d1d43d",
   "metadata": {
    "execution": {
     "iopub.execute_input": "2021-08-13T07:16:48.549317Z",
     "iopub.status.busy": "2021-08-13T07:16:48.548670Z",
     "iopub.status.idle": "2021-08-13T07:16:49.488764Z",
     "shell.execute_reply": "2021-08-13T07:16:49.488189Z"
    },
    "papermill": {
     "duration": 0.995019,
     "end_time": "2021-08-13T07:16:49.488905",
     "exception": false,
     "start_time": "2021-08-13T07:16:48.493886",
     "status": "completed"
    },
    "tags": []
   },
   "outputs": [
    {
     "data": {
      "text/plain": [
       "<AxesSubplot:>"
      ]
     },
     "execution_count": 24,
     "metadata": {},
     "output_type": "execute_result"
    },
    {
     "data": {
      "image/png": "[encoded data removed]",
      "text/plain": [
       "<Figure size 1080x576 with 1 Axes>"
      ]
     },
     "metadata": {
      "needs_background": "light"
     },
     "output_type": "display_data"
    }
   ],
   "source": [
    "X_train_filtered1 = X_train_filtered.apply(cap_outliers, axis=0)\n",
    "\n",
    "plt.figure(figsize=(15,8))\n",
    "plt.xticks(rotation=45)\n",
    "sns.boxplot(data = X_train_filtered1)"
   ]
  },
  {
   "cell_type": "markdown",
   "id": "872e86fe",
   "metadata": {
    "papermill": {
     "duration": 0.050821,
     "end_time": "2021-08-13T07:16:49.590800",
     "exception": false,
     "start_time": "2021-08-13T07:16:49.539979",
     "status": "completed"
    },
    "tags": []
   },
   "source": [
    "### 4.2 Feature scaling\n",
    "\n",
    "Lets also scale the features by scaling them with Standard scaler (few other alternates are min-max scaling and Z-scaling)."
   ]
  },
  {
   "cell_type": "code",
   "execution_count": 25,
   "id": "4ad7ad33",
   "metadata": {
    "execution": {
     "iopub.execute_input": "2021-08-13T07:16:49.700059Z",
     "iopub.status.busy": "2021-08-13T07:16:49.699451Z",
     "iopub.status.idle": "2021-08-13T07:16:49.720008Z",
     "shell.execute_reply": "2021-08-13T07:16:49.719481Z"
    },
    "papermill": {
     "duration": 0.077522,
     "end_time": "2021-08-13T07:16:49.720148",
     "exception": false,
     "start_time": "2021-08-13T07:16:49.642626",
     "status": "completed"
    },
    "tags": []
   },
   "outputs": [],
   "source": [
    "scale = StandardScaler()\n",
    "X_train_filtered2 = scale.fit_transform(X_train_filtered1)"
   ]
  },
  {
   "cell_type": "code",
   "execution_count": 26,
   "id": "b4473651",
   "metadata": {
    "execution": {
     "iopub.execute_input": "2021-08-13T07:16:49.843716Z",
     "iopub.status.busy": "2021-08-13T07:16:49.837318Z",
     "iopub.status.idle": "2021-08-13T07:16:50.665075Z",
     "shell.execute_reply": "2021-08-13T07:16:50.664547Z"
    },
    "papermill": {
     "duration": 0.893696,
     "end_time": "2021-08-13T07:16:50.665247",
     "exception": false,
     "start_time": "2021-08-13T07:16:49.771551",
     "status": "completed"
    },
    "tags": []
   },
   "outputs": [
    {
     "data": {
      "text/plain": [
       "<AxesSubplot:>"
      ]
     },
     "execution_count": 26,
     "metadata": {},
     "output_type": "execute_result"
    },
    {
     "data": {
      "image/png": "[encoded data removed]",
      "text/plain": [
       "<Figure size 1080x576 with 1 Axes>"
      ]
     },
     "metadata": {
      "needs_background": "light"
     },
     "output_type": "display_data"
    }
   ],
   "source": [
    "plt.figure(figsize=(15,8))\n",
    "plt.xticks(rotation=45)\n",
    "sns.boxplot(data = pd.DataFrame(X_train_filtered2, columns=new_vars))"
   ]
  },
  {
   "cell_type": "markdown",
   "id": "0fc94753",
   "metadata": {
    "papermill": {
     "duration": 0.053477,
     "end_time": "2021-08-13T07:16:50.772231",
     "exception": false,
     "start_time": "2021-08-13T07:16:50.718754",
     "status": "completed"
    },
    "tags": []
   },
   "source": [
    "You can perform feature transformations at this stage. \n",
    "\n",
    "1. **Positively skewed:** Common transformations of this data include square root, cube root, and log.\n",
    "2. **Negatively skewed:** Common transformations include square, cube root and logarithmic.\n",
    "\n",
    "Please read the following link to understand how to perform feature scaling and preprocessing : https://scikit-learn.org/stable/modules/preprocessing.html\n",
    " \n",
    "Lets also plot the correlations for each feature for bivariate analysis."
   ]
  },
  {
   "cell_type": "code",
   "execution_count": 27,
   "id": "a4cb0bbc",
   "metadata": {
    "execution": {
     "iopub.execute_input": "2021-08-13T07:16:50.885414Z",
     "iopub.status.busy": "2021-08-13T07:16:50.884767Z",
     "iopub.status.idle": "2021-08-13T07:16:51.393619Z",
     "shell.execute_reply": "2021-08-13T07:16:51.394076Z"
    },
    "papermill": {
     "duration": 0.568818,
     "end_time": "2021-08-13T07:16:51.394261",
     "exception": false,
     "start_time": "2021-08-13T07:16:50.825443",
     "status": "completed"
    },
    "tags": []
   },
   "outputs": [
    {
     "data": {
      "text/plain": [
       "<AxesSubplot:>"
      ]
     },
     "execution_count": 27,
     "metadata": {},
     "output_type": "execute_result"
    },
    {
     "data": {
      "image/png": "[encoded data removed]",
      "text/plain": [
       "<Figure size 720x576 with 2 Axes>"
      ]
     },
     "metadata": {
      "needs_background": "light"
     },
     "output_type": "display_data"
    }
   ],
   "source": [
    "plt.figure(figsize=(10,8))\n",
    "sns.heatmap(pd.DataFrame(X_train_filtered2, columns=new_vars).corr())"
   ]
  },
  {
   "cell_type": "code",
   "execution_count": 28,
   "id": "1e5f0109",
   "metadata": {
    "execution": {
     "iopub.execute_input": "2021-08-13T07:16:51.532722Z",
     "iopub.status.busy": "2021-08-13T07:16:51.522600Z",
     "iopub.status.idle": "2021-08-13T07:16:51.842950Z",
     "shell.execute_reply": "2021-08-13T07:16:51.842445Z"
    },
    "papermill": {
     "duration": 0.393552,
     "end_time": "2021-08-13T07:16:51.843093",
     "exception": false,
     "start_time": "2021-08-13T07:16:51.449541",
     "status": "completed"
    },
    "tags": []
   },
   "outputs": [
    {
     "data": {
      "text/plain": [
       "<AxesSubplot:xlabel='churn_probability', ylabel='Count'>"
      ]
     },
     "execution_count": 28,
     "metadata": {},
     "output_type": "execute_result"
    },
    {
     "data": {
      "image/png": "[encoded data removed]",
      "text/plain": [
       "<Figure size 432x288 with 1 Axes>"
      ]
     },
     "metadata": {
      "needs_background": "light"
     },
     "output_type": "display_data"
    }
   ],
   "source": [
    "#Distribution for the churn probability\n",
    "sns.histplot(y_train)"
   ]
  },
  {
   "cell_type": "markdown",
   "id": "e59e12c1",
   "metadata": {
    "papermill": {
     "duration": 0.054582,
     "end_time": "2021-08-13T07:16:51.952415",
     "exception": false,
     "start_time": "2021-08-13T07:16:51.897833",
     "status": "completed"
    },
    "tags": []
   },
   "source": [
    "# 5. Feature engineering and selection\n",
    "\n",
    "Let's understand feature importances for raw features as well as components to decide top features for modelling."
   ]
  },
  {
   "cell_type": "code",
   "execution_count": 29,
   "id": "8746dc3f",
   "metadata": {
    "execution": {
     "iopub.execute_input": "2021-08-13T07:16:52.065512Z",
     "iopub.status.busy": "2021-08-13T07:16:52.064870Z",
     "iopub.status.idle": "2021-08-13T07:17:00.041852Z",
     "shell.execute_reply": "2021-08-13T07:17:00.041264Z"
    },
    "papermill": {
     "duration": 8.035233,
     "end_time": "2021-08-13T07:17:00.041999",
     "exception": false,
     "start_time": "2021-08-13T07:16:52.006766",
     "status": "completed"
    },
    "tags": []
   },
   "outputs": [
    {
     "data": {
      "text/plain": [
       "RandomForestClassifier(n_jobs=-1)"
      ]
     },
     "execution_count": 29,
     "metadata": {},
     "output_type": "execute_result"
    }
   ],
   "source": [
    "rf = RandomForestClassifier(n_estimators=100, n_jobs=-1)\n",
    "rf.fit(X_train_filtered2, y_train)"
   ]
  },
  {
   "cell_type": "code",
   "execution_count": 30,
   "id": "2a268bb0",
   "metadata": {
    "execution": {
     "iopub.execute_input": "2021-08-13T07:17:00.156944Z",
     "iopub.status.busy": "2021-08-13T07:17:00.156185Z",
     "iopub.status.idle": "2021-08-13T07:17:00.262814Z",
     "shell.execute_reply": "2021-08-13T07:17:00.262150Z"
    },
    "papermill": {
     "duration": 0.165618,
     "end_time": "2021-08-13T07:17:00.262949",
     "exception": false,
     "start_time": "2021-08-13T07:17:00.097331",
     "status": "completed"
    },
    "tags": []
   },
   "outputs": [],
   "source": [
    "feature_importances = pd.DataFrame({'col':new_vars, 'importance':rf.feature_importances_})"
   ]
  },
  {
   "cell_type": "code",
   "execution_count": 31,
   "id": "3dc97e26",
   "metadata": {
    "execution": {
     "iopub.execute_input": "2021-08-13T07:17:00.394880Z",
     "iopub.status.busy": "2021-08-13T07:17:00.389545Z",
     "iopub.status.idle": "2021-08-13T07:17:00.614633Z",
     "shell.execute_reply": "2021-08-13T07:17:00.614135Z"
    },
    "papermill": {
     "duration": 0.295789,
     "end_time": "2021-08-13T07:17:00.614769",
     "exception": false,
     "start_time": "2021-08-13T07:17:00.318980",
     "status": "completed"
    },
    "tags": []
   },
   "outputs": [
    {
     "data": {
      "text/plain": [
       "<BarContainer object of 16 artists>"
      ]
     },
     "execution_count": 31,
     "metadata": {},
     "output_type": "execute_result"
    },
    {
     "data": {
      "image/png": "[encoded data removed]",
      "text/plain": [
       "<Figure size 1080x576 with 1 Axes>"
      ]
     },
     "metadata": {
      "needs_background": "light"
     },
     "output_type": "display_data"
    }
   ],
   "source": [
    "plt.figure(figsize=(15,8))\n",
    "plt.xticks(rotation=45)\n",
    "plt.bar(feature_importances['col'], feature_importances['importance'])"
   ]
  },
  {
   "cell_type": "markdown",
   "id": "914c5bec",
   "metadata": {
    "papermill": {
     "duration": 0.055776,
     "end_time": "2021-08-13T07:17:00.727093",
     "exception": false,
     "start_time": "2021-08-13T07:17:00.671317",
     "status": "completed"
    },
    "tags": []
   },
   "source": [
    "At this step, you can create a bunch of features based on business understanding, such as \n",
    "1. \"average % gain of 3g volume from month 6 to 8\" - (growth or decline of 3g usage month over month?)\n",
    "2. \"ratio of total outgoing amount and age of user on network\" - (average daily usage of a user?)\n",
    "3. \"standard deviation of the total amount paid by user for all services\" - (too much variability in charges?)\n",
    "4. etc..\n",
    "\n",
    "Another way of finding good features would be to project them into a lower dimensional space using PCA. PCA creates components which are a linear combination of the features. This then allows you to select components which explain the highest amount of variance.\n",
    "\n",
    "Lets try to project the data onto 2D space and plot. **Note:** you can try TSNE, which is another dimensionality reduction approach as well. Check https://scikit-learn.org/stable/modules/generated/sklearn.manifold.TSNE.html for moree details."
   ]
  },
  {
   "cell_type": "code",
   "execution_count": 32,
   "id": "e2687e7a",
   "metadata": {
    "execution": {
     "iopub.execute_input": "2021-08-13T07:17:00.843696Z",
     "iopub.status.busy": "2021-08-13T07:17:00.843015Z",
     "iopub.status.idle": "2021-08-13T07:17:05.399680Z",
     "shell.execute_reply": "2021-08-13T07:17:05.400119Z"
    },
    "papermill": {
     "duration": 4.617268,
     "end_time": "2021-08-13T07:17:05.400295",
     "exception": false,
     "start_time": "2021-08-13T07:17:00.783027",
     "status": "completed"
    },
    "tags": []
   },
   "outputs": [
    {
     "data": {
      "text/plain": [
       "<AxesSubplot:>"
      ]
     },
     "execution_count": 32,
     "metadata": {},
     "output_type": "execute_result"
    },
    {
     "data": {
      "image/png": "[encoded data removed]",
      "text/plain": [
       "<Figure size 432x288 with 1 Axes>"
      ]
     },
     "metadata": {
      "needs_background": "light"
     },
     "output_type": "display_data"
    }
   ],
   "source": [
    "pca = PCA()\n",
    "pca_components = pca.fit_transform(X_train_filtered2)\n",
    "sns.scatterplot(x=pca_components[:,0], y=pca_components[:,1], hue=y_train)"
   ]
  },
  {
   "cell_type": "code",
   "execution_count": 33,
   "id": "ad202938",
   "metadata": {
    "execution": {
     "iopub.execute_input": "2021-08-13T07:17:05.526727Z",
     "iopub.status.busy": "2021-08-13T07:17:05.525821Z",
     "iopub.status.idle": "2021-08-13T07:17:08.092361Z",
     "shell.execute_reply": "2021-08-13T07:17:08.092840Z"
    },
    "papermill": {
     "duration": 2.631052,
     "end_time": "2021-08-13T07:17:08.093002",
     "exception": false,
     "start_time": "2021-08-13T07:17:05.461950",
     "status": "completed"
    },
    "tags": []
   },
   "outputs": [
    {
     "data": {
      "text/plain": [
       "<AxesSubplot:>"
      ]
     },
     "execution_count": 33,
     "metadata": {},
     "output_type": "execute_result"
    },
    {
     "data": {
      "image/png": "[encoded data removed]",
      "text/plain": [
       "<Figure size 432x288 with 1 Axes>"
      ]
     },
     "metadata": {
      "needs_background": "light"
     },
     "output_type": "display_data"
    }
   ],
   "source": [
    "sns.scatterplot(x=pca_components[:,1], y=pca_components[:,2], hue=y_train)"
   ]
  },
  {
   "cell_type": "markdown",
   "id": "01b9b83e",
   "metadata": {
    "papermill": {
     "duration": 0.063551,
     "end_time": "2021-08-13T07:17:08.224795",
     "exception": false,
     "start_time": "2021-08-13T07:17:08.161244",
     "status": "completed"
    },
    "tags": []
   },
   "source": [
    "Let's also check which of the components have high feature importances towards the end goal of churn prediction."
   ]
  },
  {
   "cell_type": "code",
   "execution_count": 34,
   "id": "586937b3",
   "metadata": {
    "execution": {
     "iopub.execute_input": "2021-08-13T07:17:08.359345Z",
     "iopub.status.busy": "2021-08-13T07:17:08.358392Z",
     "iopub.status.idle": "2021-08-13T07:17:20.982182Z",
     "shell.execute_reply": "2021-08-13T07:17:20.982618Z"
    },
    "papermill": {
     "duration": 12.694325,
     "end_time": "2021-08-13T07:17:20.982792",
     "exception": false,
     "start_time": "2021-08-13T07:17:08.288467",
     "status": "completed"
    },
    "tags": []
   },
   "outputs": [
    {
     "data": {
      "text/plain": [
       "<BarContainer object of 16 artists>"
      ]
     },
     "execution_count": 34,
     "metadata": {},
     "output_type": "execute_result"
    },
    {
     "data": {
      "image/png": "[encoded data removed]",
      "text/plain": [
       "<Figure size 1080x576 with 1 Axes>"
      ]
     },
     "metadata": {
      "needs_background": "light"
     },
     "output_type": "display_data"
    }
   ],
   "source": [
    "rf = RandomForestClassifier(n_estimators=100, n_jobs=-1)\n",
    "rf.fit(pca_components, y_train)\n",
    "\n",
    "feature_importances = pd.DataFrame({'col':['component_'+str(i) for i in range(16)], \n",
    "                                    'importance':rf.feature_importances_})\n",
    "\n",
    "plt.figure(figsize=(15,8))\n",
    "plt.xticks(rotation=45)\n",
    "plt.bar(feature_importances['col'], feature_importances['importance'])"
   ]
  },
  {
   "cell_type": "markdown",
   "id": "a5aa1235",
   "metadata": {
    "papermill": {
     "duration": 0.065189,
     "end_time": "2021-08-13T07:17:21.113066",
     "exception": false,
     "start_time": "2021-08-13T07:17:21.047877",
     "status": "completed"
    },
    "tags": []
   },
   "source": [
    "# 6. Model building\n",
    "\n",
    "Let's build a quick model with logistic regression and the first 2 PCA components."
   ]
  },
  {
   "cell_type": "code",
   "execution_count": 35,
   "id": "a7f08df2",
   "metadata": {
    "execution": {
     "iopub.execute_input": "2021-08-13T07:17:21.245608Z",
     "iopub.status.busy": "2021-08-13T07:17:21.245033Z",
     "iopub.status.idle": "2021-08-13T07:17:21.363943Z",
     "shell.execute_reply": "2021-08-13T07:17:21.363462Z"
    },
    "papermill": {
     "duration": 0.185674,
     "end_time": "2021-08-13T07:17:21.364082",
     "exception": false,
     "start_time": "2021-08-13T07:17:21.178408",
     "status": "completed"
    },
    "tags": []
   },
   "outputs": [
    {
     "data": {
      "text/plain": [
       "LogisticRegression(max_iter=1000, solver='sag', tol=0.001)"
      ]
     },
     "execution_count": 35,
     "metadata": {},
     "output_type": "execute_result"
    }
   ],
   "source": [
    "lr = LogisticRegression(max_iter=1000, tol=0.001, solver='sag')\n",
    "lr.fit(pca_components[:,:2], y_train)"
   ]
  },
  {
   "cell_type": "code",
   "execution_count": 36,
   "id": "775e57ca",
   "metadata": {
    "execution": {
     "iopub.execute_input": "2021-08-13T07:17:21.506723Z",
     "iopub.status.busy": "2021-08-13T07:17:21.499855Z",
     "iopub.status.idle": "2021-08-13T07:17:21.518635Z",
     "shell.execute_reply": "2021-08-13T07:17:21.519564Z"
    },
    "papermill": {
     "duration": 0.089994,
     "end_time": "2021-08-13T07:17:21.519838",
     "exception": false,
     "start_time": "2021-08-13T07:17:21.429844",
     "status": "completed"
    },
    "tags": []
   },
   "outputs": [
    {
     "data": {
      "text/plain": [
       "0.8981053233093448"
      ]
     },
     "execution_count": 36,
     "metadata": {},
     "output_type": "execute_result"
    }
   ],
   "source": [
    "lr.score(pca_components[:,:2], y_train)"
   ]
  },
  {
   "cell_type": "markdown",
   "id": "321b0b34",
   "metadata": {
    "papermill": {
     "duration": 0.064818,
     "end_time": "2021-08-13T07:17:21.699674",
     "exception": false,
     "start_time": "2021-08-13T07:17:21.634856",
     "status": "completed"
    },
    "tags": []
   },
   "source": [
    "The model has 89.8% accuracy, but let's build a pipeline to fit and score the model faster.\n",
    "\n",
    "The steps of this pipeline would be the following, but this is only one type of pipeline -\n",
    "1. Imputation\n",
    "2. Scaling\n",
    "3. PCA\n",
    "4. Classification model\n",
    "\n",
    "You can change this pipeline, add addition transformations, change models, use cross validation or even use this pipeline to work with a Gridsearch."
   ]
  },
  {
   "cell_type": "code",
   "execution_count": 37,
   "id": "c8d915ec",
   "metadata": {
    "execution": {
     "iopub.execute_input": "2021-08-13T07:17:21.834791Z",
     "iopub.status.busy": "2021-08-13T07:17:21.834131Z",
     "iopub.status.idle": "2021-08-13T07:17:21.835947Z",
     "shell.execute_reply": "2021-08-13T07:17:21.836435Z"
    },
    "papermill": {
     "duration": 0.071699,
     "end_time": "2021-08-13T07:17:21.836592",
     "exception": false,
     "start_time": "2021-08-13T07:17:21.764893",
     "status": "completed"
    },
    "tags": []
   },
   "outputs": [],
   "source": [
    "imp = SimpleImputer(strategy='constant', fill_value=0)\n",
    "scale = StandardScaler()\n",
    "pca = PCA(n_components=10)\n",
    "lr = LogisticRegression(max_iter=1000, tol=0.001)"
   ]
  },
  {
   "cell_type": "code",
   "execution_count": 38,
   "id": "7d0defd3",
   "metadata": {
    "execution": {
     "iopub.execute_input": "2021-08-13T07:17:21.971470Z",
     "iopub.status.busy": "2021-08-13T07:17:21.970871Z",
     "iopub.status.idle": "2021-08-13T07:17:21.974585Z",
     "shell.execute_reply": "2021-08-13T07:17:21.975035Z"
    },
    "papermill": {
     "duration": 0.073281,
     "end_time": "2021-08-13T07:17:21.975259",
     "exception": false,
     "start_time": "2021-08-13T07:17:21.901978",
     "status": "completed"
    },
    "tags": []
   },
   "outputs": [],
   "source": [
    "pipe = Pipeline(steps = [('imputation',imp),\n",
    "                         ('scaling',scale),\n",
    "                         ('pca',pca),\n",
    "                         ('model',lr)])"
   ]
  },
  {
   "cell_type": "code",
   "execution_count": 39,
   "id": "8972c5fd",
   "metadata": {
    "execution": {
     "iopub.execute_input": "2021-08-13T07:17:22.109239Z",
     "iopub.status.busy": "2021-08-13T07:17:22.108575Z",
     "iopub.status.idle": "2021-08-13T07:17:22.525661Z",
     "shell.execute_reply": "2021-08-13T07:17:22.526440Z"
    },
    "papermill": {
     "duration": 0.485922,
     "end_time": "2021-08-13T07:17:22.526693",
     "exception": false,
     "start_time": "2021-08-13T07:17:22.040771",
     "status": "completed"
    },
    "tags": []
   },
   "outputs": [
    {
     "data": {
      "text/plain": [
       "Pipeline(steps=[('imputation',\n",
       "                 SimpleImputer(fill_value=0, strategy='constant')),\n",
       "                ('scaling', StandardScaler()), ('pca', PCA(n_components=10)),\n",
       "                ('model', LogisticRegression(max_iter=1000, tol=0.001))])"
      ]
     },
     "execution_count": 39,
     "metadata": {},
     "output_type": "execute_result"
    }
   ],
   "source": [
    "pipe.fit(X_train[new_vars], y_train)"
   ]
  },
  {
   "cell_type": "code",
   "execution_count": 40,
   "id": "441b2354",
   "metadata": {
    "execution": {
     "iopub.execute_input": "2021-08-13T07:17:22.717605Z",
     "iopub.status.busy": "2021-08-13T07:17:22.716972Z",
     "iopub.status.idle": "2021-08-13T07:17:22.754258Z",
     "shell.execute_reply": "2021-08-13T07:17:22.755024Z"
    },
    "papermill": {
     "duration": 0.111563,
     "end_time": "2021-08-13T07:17:22.755300",
     "exception": false,
     "start_time": "2021-08-13T07:17:22.643737",
     "status": "completed"
    },
    "tags": []
   },
   "outputs": [
    {
     "name": "stdout",
     "output_type": "stream",
     "text": [
      "Training accuracy: 0.9001232164860087\n"
     ]
    }
   ],
   "source": [
    "train_score = pipe.score(X_train[new_vars], y_train)\n",
    "print(\"Training accuracy:\", train_score)"
   ]
  },
  {
   "cell_type": "code",
   "execution_count": 41,
   "id": "b3db02c7",
   "metadata": {
    "execution": {
     "iopub.execute_input": "2021-08-13T07:17:22.947486Z",
     "iopub.status.busy": "2021-08-13T07:17:22.946583Z",
     "iopub.status.idle": "2021-08-13T07:17:22.959536Z",
     "shell.execute_reply": "2021-08-13T07:17:22.960316Z"
    },
    "papermill": {
     "duration": 0.087891,
     "end_time": "2021-08-13T07:17:22.960566",
     "exception": false,
     "start_time": "2021-08-13T07:17:22.872675",
     "status": "completed"
    },
    "tags": []
   },
   "outputs": [
    {
     "name": "stdout",
     "output_type": "stream",
     "text": [
      "Test accuracy: 0.9\n"
     ]
    }
   ],
   "source": [
    "test_score = pipe.score(X_test[new_vars], y_test)\n",
    "print(\"Test accuracy:\", test_score)"
   ]
  },
  {
   "cell_type": "markdown",
   "id": "beec9d12",
   "metadata": {
    "papermill": {
     "duration": 0.070399,
     "end_time": "2021-08-13T07:17:23.152879",
     "exception": false,
     "start_time": "2021-08-13T07:17:23.082480",
     "status": "completed"
    },
    "tags": []
   },
   "source": [
    "Let's make a confusion matrix to analyze how each class is being predicted by the model."
   ]
  },
  {
   "cell_type": "code",
   "execution_count": 42,
   "id": "012c5a58",
   "metadata": {
    "execution": {
     "iopub.execute_input": "2021-08-13T07:17:23.299159Z",
     "iopub.status.busy": "2021-08-13T07:17:23.298119Z",
     "iopub.status.idle": "2021-08-13T07:17:23.420848Z",
     "shell.execute_reply": "2021-08-13T07:17:23.421562Z"
    },
    "papermill": {
     "duration": 0.200569,
     "end_time": "2021-08-13T07:17:23.421831",
     "exception": false,
     "start_time": "2021-08-13T07:17:23.221262",
     "status": "completed"
    },
    "tags": []
   },
   "outputs": [
    {
     "data": {
      "text/plain": [
       "array([[50022,   271],\n",
       "       [ 5322,   384]])"
      ]
     },
     "execution_count": 42,
     "metadata": {},
     "output_type": "execute_result"
    }
   ],
   "source": [
    "confusion_matrix(y_train, pipe.predict(X_train[new_vars]))"
   ]
  },
  {
   "cell_type": "code",
   "execution_count": 43,
   "id": "84ba50bf",
   "metadata": {
    "execution": {
     "iopub.execute_input": "2021-08-13T07:17:23.573764Z",
     "iopub.status.busy": "2021-08-13T07:17:23.571151Z",
     "iopub.status.idle": "2021-08-13T07:17:23.608185Z",
     "shell.execute_reply": "2021-08-13T07:17:23.607354Z"
    },
    "papermill": {
     "duration": 0.109186,
     "end_time": "2021-08-13T07:17:23.608435",
     "exception": false,
     "start_time": "2021-08-13T07:17:23.499249",
     "status": "completed"
    },
    "tags": []
   },
   "outputs": [
    {
     "data": {
      "text/plain": [
       "array([[12507,    67],\n",
       "       [ 1333,    93]])"
      ]
     },
     "execution_count": 43,
     "metadata": {},
     "output_type": "execute_result"
    }
   ],
   "source": [
    "confusion_matrix(y_test, pipe.predict(X_test[new_vars]))"
   ]
  },
  {
   "cell_type": "markdown",
   "id": "3ff7895f",
   "metadata": {
    "papermill": {
     "duration": 0.068268,
     "end_time": "2021-08-13T07:17:23.788669",
     "exception": false,
     "start_time": "2021-08-13T07:17:23.720401",
     "status": "completed"
    },
    "tags": []
   },
   "source": [
    "We can see a high amount of type 2 error. Due to class imbalance, the model is clearly trying to predict majority of the cases as class 0. Understanding how to handle class imbalance in classification models might be the key to winning this competition :) (hint!)"
   ]
  },
  {
   "cell_type": "code",
   "execution_count": 44,
   "id": "407cfc13",
   "metadata": {
    "execution": {
     "iopub.execute_input": "2021-08-13T07:17:23.933119Z",
     "iopub.status.busy": "2021-08-13T07:17:23.932523Z",
     "iopub.status.idle": "2021-08-13T07:17:23.954810Z",
     "shell.execute_reply": "2021-08-13T07:17:23.955721Z"
    },
    "papermill": {
     "duration": 0.09953,
     "end_time": "2021-08-13T07:17:23.955991",
     "exception": false,
     "start_time": "2021-08-13T07:17:23.856461",
     "status": "completed"
    },
    "tags": []
   },
   "outputs": [
    {
     "data": {
      "text/plain": [
       "0.58125"
      ]
     },
     "execution_count": 44,
     "metadata": {},
     "output_type": "execute_result"
    }
   ],
   "source": [
    "precision_score(y_test, pipe.predict(X_test[new_vars]))"
   ]
  },
  {
   "cell_type": "code",
   "execution_count": 45,
   "id": "3eb37be6",
   "metadata": {
    "execution": {
     "iopub.execute_input": "2021-08-13T07:17:24.161533Z",
     "iopub.status.busy": "2021-08-13T07:17:24.160724Z",
     "iopub.status.idle": "2021-08-13T07:17:24.197024Z",
     "shell.execute_reply": "2021-08-13T07:17:24.198010Z"
    },
    "papermill": {
     "duration": 0.123943,
     "end_time": "2021-08-13T07:17:24.198308",
     "exception": false,
     "start_time": "2021-08-13T07:17:24.074365",
     "status": "completed"
    },
    "tags": []
   },
   "outputs": [
    {
     "data": {
      "text/plain": [
       "0.06521739130434782"
      ]
     },
     "execution_count": 45,
     "metadata": {},
     "output_type": "execute_result"
    }
   ],
   "source": [
    "recall_score(y_test, pipe.predict(X_test[new_vars]))"
   ]
  },
  {
   "cell_type": "markdown",
   "id": "1d1e1eef",
   "metadata": {
    "papermill": {
     "duration": 0.067672,
     "end_time": "2021-08-13T07:17:24.385001",
     "exception": false,
     "start_time": "2021-08-13T07:17:24.317329",
     "status": "completed"
    },
    "tags": []
   },
   "source": [
    "# 7. Creating submission file\n",
    "\n",
    "For submission, we need to make sure that the format is exactly the same as the sample.csv file. It contains 2 columns, id and churn_probability"
   ]
  },
  {
   "cell_type": "code",
   "execution_count": 46,
   "id": "ad672d46",
   "metadata": {
    "execution": {
     "iopub.execute_input": "2021-08-13T07:17:24.530611Z",
     "iopub.status.busy": "2021-08-13T07:17:24.530007Z",
     "iopub.status.idle": "2021-08-13T07:17:24.533218Z",
     "shell.execute_reply": "2021-08-13T07:17:24.533650Z"
    },
    "papermill": {
     "duration": 0.080814,
     "end_time": "2021-08-13T07:17:24.533810",
     "exception": false,
     "start_time": "2021-08-13T07:17:24.452996",
     "status": "completed"
    },
    "tags": []
   },
   "outputs": [
    {
     "data": {
      "text/html": [
       "<div>\n",
       "<style scoped>\n",
       "    .dataframe tbody tr th:only-of-type {\n",
       "        vertical-align: middle;\n",
       "    }\n",
       "\n",
       "    .dataframe tbody tr th {\n",
       "        vertical-align: top;\n",
       "    }\n",
       "\n",
       "    .dataframe thead th {\n",
       "        text-align: right;\n",
       "    }\n",
       "</style>\n",
       "<table border=\"1\" class=\"dataframe\">\n",
       "  <thead>\n",
       "    <tr style=\"text-align: right;\">\n",
       "      <th></th>\n",
       "      <th>id</th>\n",
       "      <th>churn_probability</th>\n",
       "    </tr>\n",
       "  </thead>\n",
       "  <tbody>\n",
       "    <tr>\n",
       "      <th>0</th>\n",
       "      <td>69999</td>\n",
       "      <td>0</td>\n",
       "    </tr>\n",
       "    <tr>\n",
       "      <th>1</th>\n",
       "      <td>70000</td>\n",
       "      <td>0</td>\n",
       "    </tr>\n",
       "    <tr>\n",
       "      <th>2</th>\n",
       "      <td>70001</td>\n",
       "      <td>0</td>\n",
       "    </tr>\n",
       "    <tr>\n",
       "      <th>3</th>\n",
       "      <td>70002</td>\n",
       "      <td>0</td>\n",
       "    </tr>\n",
       "    <tr>\n",
       "      <th>4</th>\n",
       "      <td>70003</td>\n",
       "      <td>0</td>\n",
       "    </tr>\n",
       "  </tbody>\n",
       "</table>\n",
       "</div>"
      ],
      "text/plain": [
       "      id  churn_probability\n",
       "0  69999                  0\n",
       "1  70000                  0\n",
       "2  70001                  0\n",
       "3  70002                  0\n",
       "4  70003                  0"
      ]
     },
     "execution_count": 46,
     "metadata": {},
     "output_type": "execute_result"
    }
   ],
   "source": [
    "sample.head()"
   ]
  },
  {
   "cell_type": "markdown",
   "id": "020d3949",
   "metadata": {
    "papermill": {
     "duration": 0.068381,
     "end_time": "2021-08-13T07:17:24.670628",
     "exception": false,
     "start_time": "2021-08-13T07:17:24.602247",
     "status": "completed"
    },
    "tags": []
   },
   "source": [
    "The submission file should contain churn_probability values that have to be predicted for the unseen data provided (test.csv)"
   ]
  },
  {
   "cell_type": "code",
   "execution_count": 47,
   "id": "5cb95d9d",
   "metadata": {
    "execution": {
     "iopub.execute_input": "2021-08-13T07:17:24.811739Z",
     "iopub.status.busy": "2021-08-13T07:17:24.811179Z",
     "iopub.status.idle": "2021-08-13T07:17:24.837592Z",
     "shell.execute_reply": "2021-08-13T07:17:24.838025Z"
    },
    "papermill": {
     "duration": 0.098877,
     "end_time": "2021-08-13T07:17:24.838199",
     "exception": false,
     "start_time": "2021-08-13T07:17:24.739322",
     "status": "completed"
    },
    "tags": []
   },
   "outputs": [
    {
     "data": {
      "text/html": [
       "<div>\n",
       "<style scoped>\n",
       "    .dataframe tbody tr th:only-of-type {\n",
       "        vertical-align: middle;\n",
       "    }\n",
       "\n",
       "    .dataframe tbody tr th {\n",
       "        vertical-align: top;\n",
       "    }\n",
       "\n",
       "    .dataframe thead th {\n",
       "        text-align: right;\n",
       "    }\n",
       "</style>\n",
       "<table border=\"1\" class=\"dataframe\">\n",
       "  <thead>\n",
       "    <tr style=\"text-align: right;\">\n",
       "      <th></th>\n",
       "      <th>id</th>\n",
       "      <th>circle_id</th>\n",
       "      <th>loc_og_t2o_mou</th>\n",
       "      <th>std_og_t2o_mou</th>\n",
       "      <th>loc_ic_t2o_mou</th>\n",
       "      <th>last_date_of_month_6</th>\n",
       "      <th>last_date_of_month_7</th>\n",
       "      <th>last_date_of_month_8</th>\n",
       "      <th>arpu_6</th>\n",
       "      <th>arpu_7</th>\n",
       "      <th>...</th>\n",
       "      <th>sachet_3g_6</th>\n",
       "      <th>sachet_3g_7</th>\n",
       "      <th>sachet_3g_8</th>\n",
       "      <th>fb_user_6</th>\n",
       "      <th>fb_user_7</th>\n",
       "      <th>fb_user_8</th>\n",
       "      <th>aon</th>\n",
       "      <th>aug_vbc_3g</th>\n",
       "      <th>jul_vbc_3g</th>\n",
       "      <th>jun_vbc_3g</th>\n",
       "    </tr>\n",
       "  </thead>\n",
       "  <tbody>\n",
       "    <tr>\n",
       "      <th>0</th>\n",
       "      <td>69999</td>\n",
       "      <td>109</td>\n",
       "      <td>0.0</td>\n",
       "      <td>0.0</td>\n",
       "      <td>0.0</td>\n",
       "      <td>6/30/2014</td>\n",
       "      <td>7/31/2014</td>\n",
       "      <td>8/31/2014</td>\n",
       "      <td>91.882</td>\n",
       "      <td>65.330</td>\n",
       "      <td>...</td>\n",
       "      <td>0</td>\n",
       "      <td>0</td>\n",
       "      <td>0</td>\n",
       "      <td>NaN</td>\n",
       "      <td>NaN</td>\n",
       "      <td>NaN</td>\n",
       "      <td>1692</td>\n",
       "      <td>0.00</td>\n",
       "      <td>0.00</td>\n",
       "      <td>0.00</td>\n",
       "    </tr>\n",
       "    <tr>\n",
       "      <th>1</th>\n",
       "      <td>70000</td>\n",
       "      <td>109</td>\n",
       "      <td>0.0</td>\n",
       "      <td>0.0</td>\n",
       "      <td>0.0</td>\n",
       "      <td>6/30/2014</td>\n",
       "      <td>7/31/2014</td>\n",
       "      <td>8/31/2014</td>\n",
       "      <td>414.168</td>\n",
       "      <td>515.568</td>\n",
       "      <td>...</td>\n",
       "      <td>0</td>\n",
       "      <td>0</td>\n",
       "      <td>0</td>\n",
       "      <td>NaN</td>\n",
       "      <td>NaN</td>\n",
       "      <td>NaN</td>\n",
       "      <td>2533</td>\n",
       "      <td>0.00</td>\n",
       "      <td>0.00</td>\n",
       "      <td>0.00</td>\n",
       "    </tr>\n",
       "    <tr>\n",
       "      <th>2</th>\n",
       "      <td>70001</td>\n",
       "      <td>109</td>\n",
       "      <td>0.0</td>\n",
       "      <td>0.0</td>\n",
       "      <td>0.0</td>\n",
       "      <td>6/30/2014</td>\n",
       "      <td>7/31/2014</td>\n",
       "      <td>8/31/2014</td>\n",
       "      <td>329.844</td>\n",
       "      <td>434.884</td>\n",
       "      <td>...</td>\n",
       "      <td>0</td>\n",
       "      <td>0</td>\n",
       "      <td>0</td>\n",
       "      <td>NaN</td>\n",
       "      <td>NaN</td>\n",
       "      <td>NaN</td>\n",
       "      <td>277</td>\n",
       "      <td>525.61</td>\n",
       "      <td>758.41</td>\n",
       "      <td>241.84</td>\n",
       "    </tr>\n",
       "    <tr>\n",
       "      <th>3</th>\n",
       "      <td>70002</td>\n",
       "      <td>109</td>\n",
       "      <td>0.0</td>\n",
       "      <td>0.0</td>\n",
       "      <td>0.0</td>\n",
       "      <td>6/30/2014</td>\n",
       "      <td>7/31/2014</td>\n",
       "      <td>8/31/2014</td>\n",
       "      <td>43.550</td>\n",
       "      <td>171.390</td>\n",
       "      <td>...</td>\n",
       "      <td>0</td>\n",
       "      <td>0</td>\n",
       "      <td>0</td>\n",
       "      <td>NaN</td>\n",
       "      <td>NaN</td>\n",
       "      <td>NaN</td>\n",
       "      <td>1244</td>\n",
       "      <td>0.00</td>\n",
       "      <td>0.00</td>\n",
       "      <td>0.00</td>\n",
       "    </tr>\n",
       "    <tr>\n",
       "      <th>4</th>\n",
       "      <td>70003</td>\n",
       "      <td>109</td>\n",
       "      <td>0.0</td>\n",
       "      <td>0.0</td>\n",
       "      <td>0.0</td>\n",
       "      <td>6/30/2014</td>\n",
       "      <td>7/31/2014</td>\n",
       "      <td>8/31/2014</td>\n",
       "      <td>306.854</td>\n",
       "      <td>406.289</td>\n",
       "      <td>...</td>\n",
       "      <td>0</td>\n",
       "      <td>0</td>\n",
       "      <td>0</td>\n",
       "      <td>NaN</td>\n",
       "      <td>NaN</td>\n",
       "      <td>NaN</td>\n",
       "      <td>462</td>\n",
       "      <td>0.00</td>\n",
       "      <td>0.00</td>\n",
       "      <td>0.00</td>\n",
       "    </tr>\n",
       "  </tbody>\n",
       "</table>\n",
       "<p>5 rows × 171 columns</p>\n",
       "</div>"
      ],
      "text/plain": [
       "      id  circle_id  loc_og_t2o_mou  std_og_t2o_mou  loc_ic_t2o_mou  \\\n",
       "0  69999        109             0.0             0.0             0.0   \n",
       "1  70000        109             0.0             0.0             0.0   \n",
       "2  70001        109             0.0             0.0             0.0   \n",
       "3  70002        109             0.0             0.0             0.0   \n",
       "4  70003        109             0.0             0.0             0.0   \n",
       "\n",
       "  last_date_of_month_6 last_date_of_month_7 last_date_of_month_8   arpu_6  \\\n",
       "0            6/30/2014            7/31/2014            8/31/2014   91.882   \n",
       "1            6/30/2014            7/31/2014            8/31/2014  414.168   \n",
       "2            6/30/2014            7/31/2014            8/31/2014  329.844   \n",
       "3            6/30/2014            7/31/2014            8/31/2014   43.550   \n",
       "4            6/30/2014            7/31/2014            8/31/2014  306.854   \n",
       "\n",
       "    arpu_7  ...  sachet_3g_6  sachet_3g_7  sachet_3g_8  fb_user_6  fb_user_7  \\\n",
       "0   65.330  ...            0            0            0        NaN        NaN   \n",
       "1  515.568  ...            0            0            0        NaN        NaN   \n",
       "2  434.884  ...            0            0            0        NaN        NaN   \n",
       "3  171.390  ...            0            0            0        NaN        NaN   \n",
       "4  406.289  ...            0            0            0        NaN        NaN   \n",
       "\n",
       "   fb_user_8   aon  aug_vbc_3g  jul_vbc_3g  jun_vbc_3g  \n",
       "0        NaN  1692        0.00        0.00        0.00  \n",
       "1        NaN  2533        0.00        0.00        0.00  \n",
       "2        NaN   277      525.61      758.41      241.84  \n",
       "3        NaN  1244        0.00        0.00        0.00  \n",
       "4        NaN   462        0.00        0.00        0.00  \n",
       "\n",
       "[5 rows x 171 columns]"
      ]
     },
     "execution_count": 47,
     "metadata": {},
     "output_type": "execute_result"
    }
   ],
   "source": [
    "unseen.head()"
   ]
  },
  {
   "cell_type": "markdown",
   "id": "da9eb3a2",
   "metadata": {
    "papermill": {
     "duration": 0.06952,
     "end_time": "2021-08-13T07:17:24.977086",
     "exception": false,
     "start_time": "2021-08-13T07:17:24.907566",
     "status": "completed"
    },
    "tags": []
   },
   "source": [
    "Lets first select the columns that we want to work with (or create them, if you have done any feature engineering)"
   ]
  },
  {
   "cell_type": "code",
   "execution_count": 48,
   "id": "530c384a",
   "metadata": {
    "execution": {
     "iopub.execute_input": "2021-08-13T07:17:25.121684Z",
     "iopub.status.busy": "2021-08-13T07:17:25.120439Z",
     "iopub.status.idle": "2021-08-13T07:17:25.139846Z",
     "shell.execute_reply": "2021-08-13T07:17:25.140254Z"
    },
    "papermill": {
     "duration": 0.093498,
     "end_time": "2021-08-13T07:17:25.140420",
     "exception": false,
     "start_time": "2021-08-13T07:17:25.046922",
     "status": "completed"
    },
    "tags": []
   },
   "outputs": [
    {
     "data": {
      "text/plain": [
       "(30000, 16)"
      ]
     },
     "execution_count": 48,
     "metadata": {},
     "output_type": "execute_result"
    }
   ],
   "source": [
    "submission_data = unseen.set_index('id')[new_vars]\n",
    "submission_data.shape"
   ]
  },
  {
   "cell_type": "markdown",
   "id": "d584eab9",
   "metadata": {
    "papermill": {
     "duration": 0.069588,
     "end_time": "2021-08-13T07:17:25.279867",
     "exception": false,
     "start_time": "2021-08-13T07:17:25.210279",
     "status": "completed"
    },
    "tags": []
   },
   "source": [
    "Next, lets create a new column in the unseen dataset called churn_probability and use the model pipeline to predict the probabilities for this data"
   ]
  },
  {
   "cell_type": "code",
   "execution_count": 49,
   "id": "ab2459d7",
   "metadata": {
    "execution": {
     "iopub.execute_input": "2021-08-13T07:17:25.422640Z",
     "iopub.status.busy": "2021-08-13T07:17:25.421696Z",
     "iopub.status.idle": "2021-08-13T07:17:25.457451Z",
     "shell.execute_reply": "2021-08-13T07:17:25.456659Z"
    },
    "papermill": {
     "duration": 0.108369,
     "end_time": "2021-08-13T07:17:25.457668",
     "exception": false,
     "start_time": "2021-08-13T07:17:25.349299",
     "status": "completed"
    },
    "tags": []
   },
   "outputs": [
    {
     "data": {
      "text/html": [
       "<div>\n",
       "<style scoped>\n",
       "    .dataframe tbody tr th:only-of-type {\n",
       "        vertical-align: middle;\n",
       "    }\n",
       "\n",
       "    .dataframe tbody tr th {\n",
       "        vertical-align: top;\n",
       "    }\n",
       "\n",
       "    .dataframe thead th {\n",
       "        text-align: right;\n",
       "    }\n",
       "</style>\n",
       "<table border=\"1\" class=\"dataframe\">\n",
       "  <thead>\n",
       "    <tr style=\"text-align: right;\">\n",
       "      <th></th>\n",
       "      <th>id</th>\n",
       "      <th>churn_probability</th>\n",
       "    </tr>\n",
       "  </thead>\n",
       "  <tbody>\n",
       "    <tr>\n",
       "      <th>0</th>\n",
       "      <td>69999</td>\n",
       "      <td>0</td>\n",
       "    </tr>\n",
       "    <tr>\n",
       "      <th>1</th>\n",
       "      <td>70000</td>\n",
       "      <td>0</td>\n",
       "    </tr>\n",
       "    <tr>\n",
       "      <th>2</th>\n",
       "      <td>70001</td>\n",
       "      <td>0</td>\n",
       "    </tr>\n",
       "    <tr>\n",
       "      <th>3</th>\n",
       "      <td>70002</td>\n",
       "      <td>0</td>\n",
       "    </tr>\n",
       "    <tr>\n",
       "      <th>4</th>\n",
       "      <td>70003</td>\n",
       "      <td>0</td>\n",
       "    </tr>\n",
       "  </tbody>\n",
       "</table>\n",
       "</div>"
      ],
      "text/plain": [
       "      id  churn_probability\n",
       "0  69999                  0\n",
       "1  70000                  0\n",
       "2  70001                  0\n",
       "3  70002                  0\n",
       "4  70003                  0"
      ]
     },
     "execution_count": 49,
     "metadata": {},
     "output_type": "execute_result"
    }
   ],
   "source": [
    "unseen['churn_probability'] = pipe.predict(submission_data)\n",
    "output = unseen[['id','churn_probability']]\n",
    "output.head()"
   ]
  },
  {
   "cell_type": "markdown",
   "id": "d4cc053f",
   "metadata": {
    "papermill": {
     "duration": 0.124336,
     "end_time": "2021-08-13T07:17:25.701056",
     "exception": false,
     "start_time": "2021-08-13T07:17:25.576720",
     "status": "completed"
    },
    "tags": []
   },
   "source": [
    "Finally, lets create a csv file out of this dataset, ensuring to set index=False to avoid an addition column in the csv."
   ]
  },
  {
   "cell_type": "code",
   "execution_count": 50,
   "id": "cd0ce11a",
   "metadata": {
    "execution": {
     "iopub.execute_input": "2021-08-13T07:17:25.868564Z",
     "iopub.status.busy": "2021-08-13T07:17:25.867848Z",
     "iopub.status.idle": "2021-08-13T07:17:25.914141Z",
     "shell.execute_reply": "2021-08-13T07:17:25.913627Z"
    },
    "papermill": {
     "duration": 0.12837,
     "end_time": "2021-08-13T07:17:25.914318",
     "exception": false,
     "start_time": "2021-08-13T07:17:25.785948",
     "status": "completed"
    },
    "tags": []
   },
   "outputs": [],
   "source": [
    "output.to_csv('submission_pca_lr_13jul.csv',index=False)"
   ]
  },
  {
   "cell_type": "markdown",
   "id": "afc24e68",
   "metadata": {
    "papermill": {
     "duration": 0.08214,
     "end_time": "2021-08-13T07:17:26.080507",
     "exception": false,
     "start_time": "2021-08-13T07:17:25.998367",
     "status": "completed"
    },
    "tags": []
   },
   "source": [
    "You can now take this file and upload it as a submission on Kaggle."
   ]
  },
  {
   "cell_type": "code",
   "execution_count": null,
   "id": "8a688423",
   "metadata": {
    "papermill": {
     "duration": 0.070782,
     "end_time": "2021-08-13T07:17:26.223247",
     "exception": false,
     "start_time": "2021-08-13T07:17:26.152465",
     "status": "completed"
    },
    "tags": []
   },
   "outputs": [],
   "source": []
  }
 ],
 "metadata": {
  "kernelspec": {
   "display_name": "Python 3",
   "language": "python",
   "name": "python3"
  },
  "language_info": {
   "codemirror_mode": {
    "name": "ipython",
    "version": 3
   },
   "file_extension": ".py",
   "mimetype": "text/x-python",
   "name": "python",
   "nbconvert_exporter": "python",
   "pygments_lexer": "ipython3",
   "version": "3.11.5"
  },
  "papermill": {
   "default_parameters": {},
   "duration": 57.533667,
   "end_time": "2021-08-13T07:17:27.204430",
   "environment_variables": {},
   "exception": null,
   "input_path": "__notebook__.ipynb",
   "output_path": "__notebook__.ipynb",
   "parameters": {},
   "start_time": "2021-08-13T07:16:29.670763",
   "version": "2.3.3"
  }
 },
 "nbformat": 4,
 "nbformat_minor": 5
}
